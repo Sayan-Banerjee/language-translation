{
 "cells": [
  {
   "cell_type": "markdown",
   "metadata": {
    "collapsed": true,
    "deletable": true,
    "editable": true
   },
   "source": [
    "# Language Translation\n",
    "In this project, you’re going to take a peek into the realm of neural network machine translation.  You’ll be training a sequence to sequence model on a dataset of English and French sentences that can translate new sentences from English to French.\n",
    "## Get the Data\n",
    "Since translating the whole language of English to French will take lots of time to train, we have provided you with a small portion of the English corpus."
   ]
  },
  {
   "cell_type": "code",
   "execution_count": 1,
   "metadata": {
    "collapsed": false,
    "deletable": true,
    "editable": true
   },
   "outputs": [],
   "source": [
    "\"\"\"\n",
    "DON'T MODIFY ANYTHING IN THIS CELL\n",
    "\"\"\"\n",
    "import helper\n",
    "import problem_unittests as tests\n",
    "\n",
    "source_path = 'data/small_vocab_en'\n",
    "target_path = 'data/small_vocab_fr'\n",
    "source_text = helper.load_data(source_path)\n",
    "target_text = helper.load_data(target_path)"
   ]
  },
  {
   "cell_type": "markdown",
   "metadata": {
    "deletable": true,
    "editable": true
   },
   "source": [
    "## Explore the Data\n",
    "Play around with view_sentence_range to view different parts of the data."
   ]
  },
  {
   "cell_type": "code",
   "execution_count": 2,
   "metadata": {
    "collapsed": false,
    "deletable": true,
    "editable": true
   },
   "outputs": [
    {
     "name": "stdout",
     "output_type": "stream",
     "text": [
      "Dataset Stats\n",
      "Roughly the number of unique words: 227\n",
      "Number of sentences: 137861\n",
      "Average number of words in a sentence: 13.225277634719028\n",
      "\n",
      "English sentences 0 to 10:\n",
      "new jersey is sometimes quiet during autumn , and it is snowy in april .\n",
      "the united states is usually chilly during july , and it is usually freezing in november .\n",
      "california is usually quiet during march , and it is usually hot in june .\n",
      "the united states is sometimes mild during june , and it is cold in september .\n",
      "your least liked fruit is the grape , but my least liked is the apple .\n",
      "his favorite fruit is the orange , but my favorite is the grape .\n",
      "paris is relaxing during december , but it is usually chilly in july .\n",
      "new jersey is busy during spring , and it is never hot in march .\n",
      "our least liked fruit is the lemon , but my least liked is the grape .\n",
      "the united states is sometimes busy during january , and it is sometimes warm in november .\n",
      "\n",
      "French sentences 0 to 10:\n",
      "new jersey est parfois calme pendant l' automne , et il est neigeux en avril .\n",
      "les états-unis est généralement froid en juillet , et il gèle habituellement en novembre .\n",
      "california est généralement calme en mars , et il est généralement chaud en juin .\n",
      "les états-unis est parfois légère en juin , et il fait froid en septembre .\n",
      "votre moins aimé fruit est le raisin , mais mon moins aimé est la pomme .\n",
      "son fruit préféré est l'orange , mais mon préféré est le raisin .\n",
      "paris est relaxant en décembre , mais il est généralement froid en juillet .\n",
      "new jersey est occupé au printemps , et il est jamais chaude en mars .\n",
      "notre fruit est moins aimé le citron , mais mon moins aimé est le raisin .\n",
      "les états-unis est parfois occupé en janvier , et il est parfois chaud en novembre .\n"
     ]
    }
   ],
   "source": [
    "view_sentence_range = (0, 10)\n",
    "\n",
    "\"\"\"\n",
    "DON'T MODIFY ANYTHING IN THIS CELL\n",
    "\"\"\"\n",
    "import numpy as np\n",
    "\n",
    "print('Dataset Stats')\n",
    "print('Roughly the number of unique words: {}'.format(len({word: None for word in source_text.split()})))\n",
    "\n",
    "sentences = source_text.split('\\n')\n",
    "word_counts = [len(sentence.split()) for sentence in sentences]\n",
    "print('Number of sentences: {}'.format(len(sentences)))\n",
    "print('Average number of words in a sentence: {}'.format(np.average(word_counts)))\n",
    "\n",
    "print()\n",
    "print('English sentences {} to {}:'.format(*view_sentence_range))\n",
    "print('\\n'.join(source_text.split('\\n')[view_sentence_range[0]:view_sentence_range[1]]))\n",
    "print()\n",
    "print('French sentences {} to {}:'.format(*view_sentence_range))\n",
    "print('\\n'.join(target_text.split('\\n')[view_sentence_range[0]:view_sentence_range[1]]))"
   ]
  },
  {
   "cell_type": "markdown",
   "metadata": {
    "deletable": true,
    "editable": true
   },
   "source": [
    "## Implement Preprocessing Function\n",
    "### Text to Word Ids\n",
    "As you did with other RNNs, you must turn the text into a number so the computer can understand it. In the function `text_to_ids()`, you'll turn `source_text` and `target_text` from words to ids.  However, you need to add the `<EOS>` word id at the end of each sentence from `target_text`.  This will help the neural network predict when the sentence should end.\n",
    "\n",
    "You can get the `<EOS>` word id by doing:\n",
    "```python\n",
    "target_vocab_to_int['<EOS>']\n",
    "```\n",
    "You can get other word ids using `source_vocab_to_int` and `target_vocab_to_int`."
   ]
  },
  {
   "cell_type": "code",
   "execution_count": 7,
   "metadata": {
    "collapsed": false,
    "deletable": true,
    "editable": true
   },
   "outputs": [
    {
     "name": "stdout",
     "output_type": "stream",
     "text": [
      "Tests Passed\n"
     ]
    }
   ],
   "source": [
    "def text_to_ids(source_text, target_text, source_vocab_to_int, target_vocab_to_int):\n",
    "    \"\"\"\n",
    "    Convert source and target text to proper word ids\n",
    "    :param source_text: String that contains all the source text.\n",
    "    :param target_text: String that contains all the target text.\n",
    "    :param source_vocab_to_int: Dictionary to go from the source words to an id\n",
    "    :param target_vocab_to_int: Dictionary to go from the target words to an id\n",
    "    :return: A tuple of lists (source_id_text, target_id_text)\n",
    "    \"\"\"\n",
    "    # TODO: Implement Function\n",
    "    EOS = target_vocab_to_int['<EOS>']\n",
    "    \n",
    "    source_int_to_vocab = [[source_vocab_to_int[word] for word in sentence.split()] for sentence in source_text.split('\\n')] \n",
    "    target_int_to_vocab=  [[target_vocab_to_int[word] for word in sentence.split()] + [EOS] \n",
    "                           for sentence in target_text.split('\\n')]\n",
    "    return source_int_to_vocab, target_int_to_vocab\n",
    "\n",
    "\"\"\"\n",
    "DON'T MODIFY ANYTHING IN THIS CELL THAT IS BELOW THIS LINE\n",
    "\"\"\"\n",
    "tests.test_text_to_ids(text_to_ids)"
   ]
  },
  {
   "cell_type": "markdown",
   "metadata": {
    "deletable": true,
    "editable": true
   },
   "source": [
    "### Preprocess all the data and save it\n",
    "Running the code cell below will preprocess all the data and save it to file."
   ]
  },
  {
   "cell_type": "code",
   "execution_count": 8,
   "metadata": {
    "collapsed": false,
    "deletable": true,
    "editable": true
   },
   "outputs": [],
   "source": [
    "\"\"\"\n",
    "DON'T MODIFY ANYTHING IN THIS CELL\n",
    "\"\"\"\n",
    "helper.preprocess_and_save_data(source_path, target_path, text_to_ids)"
   ]
  },
  {
   "cell_type": "markdown",
   "metadata": {
    "deletable": true,
    "editable": true
   },
   "source": [
    "# Check Point\n",
    "This is your first checkpoint. If you ever decide to come back to this notebook or have to restart the notebook, you can start from here. The preprocessed data has been saved to disk."
   ]
  },
  {
   "cell_type": "code",
   "execution_count": 9,
   "metadata": {
    "collapsed": false,
    "deletable": true,
    "editable": true
   },
   "outputs": [],
   "source": [
    "\"\"\"\n",
    "DON'T MODIFY ANYTHING IN THIS CELL\n",
    "\"\"\"\n",
    "import numpy as np\n",
    "import helper\n",
    "\n",
    "(source_int_text, target_int_text), (source_vocab_to_int, target_vocab_to_int), _ = helper.load_preprocess()"
   ]
  },
  {
   "cell_type": "markdown",
   "metadata": {
    "deletable": true,
    "editable": true
   },
   "source": [
    "### Check the Version of TensorFlow and Access to GPU\n",
    "This will check to make sure you have the correct version of TensorFlow and access to a GPU"
   ]
  },
  {
   "cell_type": "code",
   "execution_count": 10,
   "metadata": {
    "collapsed": false,
    "deletable": true,
    "editable": true
   },
   "outputs": [
    {
     "name": "stdout",
     "output_type": "stream",
     "text": [
      "TensorFlow Version: 1.0.1\n"
     ]
    },
    {
     "name": "stderr",
     "output_type": "stream",
     "text": [
      "C:\\Users\\Sayan\\Anaconda3\\envs\\TransferLearning\\lib\\site-packages\\ipykernel\\__main__.py:14: UserWarning: No GPU found. Please use a GPU to train your neural network.\n"
     ]
    }
   ],
   "source": [
    "\"\"\"\n",
    "DON'T MODIFY ANYTHING IN THIS CELL\n",
    "\"\"\"\n",
    "from distutils.version import LooseVersion\n",
    "import warnings\n",
    "import tensorflow as tf\n",
    "\n",
    "# Check TensorFlow Version\n",
    "assert LooseVersion(tf.__version__) in [LooseVersion('1.0.0'), LooseVersion('1.0.1')], 'This project requires TensorFlow version 1.0  You are using {}'.format(tf.__version__)\n",
    "print('TensorFlow Version: {}'.format(tf.__version__))\n",
    "\n",
    "# Check for a GPU\n",
    "if not tf.test.gpu_device_name():\n",
    "    warnings.warn('No GPU found. Please use a GPU to train your neural network.')\n",
    "else:\n",
    "    print('Default GPU Device: {}'.format(tf.test.gpu_device_name()))"
   ]
  },
  {
   "cell_type": "markdown",
   "metadata": {
    "deletable": true,
    "editable": true
   },
   "source": [
    "## Build the Neural Network\n",
    "You'll build the components necessary to build a Sequence-to-Sequence model by implementing the following functions below:\n",
    "- `model_inputs`\n",
    "- `process_decoding_input`\n",
    "- `encoding_layer`\n",
    "- `decoding_layer_train`\n",
    "- `decoding_layer_infer`\n",
    "- `decoding_layer`\n",
    "- `seq2seq_model`\n",
    "\n",
    "### Input\n",
    "Implement the `model_inputs()` function to create TF Placeholders for the Neural Network. It should create the following placeholders:\n",
    "\n",
    "- Input text placeholder named \"input\" using the TF Placeholder name parameter with rank 2.\n",
    "- Targets placeholder with rank 2.\n",
    "- Learning rate placeholder with rank 0.\n",
    "- Keep probability placeholder named \"keep_prob\" using the TF Placeholder name parameter with rank 0.\n",
    "\n",
    "Return the placeholders in the following the tuple (Input, Targets, Learing Rate, Keep Probability)"
   ]
  },
  {
   "cell_type": "code",
   "execution_count": 11,
   "metadata": {
    "collapsed": false,
    "deletable": true,
    "editable": true
   },
   "outputs": [
    {
     "name": "stdout",
     "output_type": "stream",
     "text": [
      "Tests Passed\n"
     ]
    }
   ],
   "source": [
    "def model_inputs():\n",
    "    \"\"\"\n",
    "    Create TF Placeholders for input, targets, and learning rate.\n",
    "    :return: Tuple (input, targets, learning rate, keep probability)\n",
    "    \"\"\"\n",
    "    # TODO: Implement Function\n",
    "    inputs= tf.placeholder(tf.int32,[None, None], name='input')\n",
    "    targets= tf.placeholder(tf.int32, [None, None], name= 'targets')\n",
    "    learning_rate = tf.placeholder(tf.float32, name= 'LearningRate')\n",
    "    keep_prob = tf.placeholder(tf.float32, name= 'keep_prob')\n",
    "    return inputs, targets, learning_rate, keep_prob\n",
    "\n",
    "\"\"\"\n",
    "DON'T MODIFY ANYTHING IN THIS CELL THAT IS BELOW THIS LINE\n",
    "\"\"\"\n",
    "tests.test_model_inputs(model_inputs)"
   ]
  },
  {
   "cell_type": "markdown",
   "metadata": {
    "deletable": true,
    "editable": true
   },
   "source": [
    "### Process Decoding Input\n",
    "Implement `process_decoding_input` using TensorFlow to remove the last word id from each batch in `target_data` and concat the GO ID to the beginning of each batch."
   ]
  },
  {
   "cell_type": "code",
   "execution_count": 12,
   "metadata": {
    "collapsed": false,
    "deletable": true,
    "editable": true
   },
   "outputs": [
    {
     "name": "stdout",
     "output_type": "stream",
     "text": [
      "Tests Passed\n"
     ]
    }
   ],
   "source": [
    "def process_decoding_input(target_data, target_vocab_to_int, batch_size):\n",
    "    \"\"\"\n",
    "    Preprocess target data for decoding\n",
    "    :param target_data: Target Placeholder\n",
    "    :param target_vocab_to_int: Dictionary to go from the target words to an id\n",
    "    :param batch_size: Batch Size\n",
    "    :return: Preprocessed target data\n",
    "    \"\"\"\n",
    "    # TODO: Implement Function\n",
    "    \n",
    "    decoder_IP = tf.strided_slice(target_data, [0, 0], [batch_size, -1], [1, 1])\n",
    "    decoder_Input = tf.concat([tf.fill([batch_size, 1], target_vocab_to_int['<GO>']), decoder_IP], 1)\n",
    "    return decoder_Input\n",
    "\n",
    "\"\"\"\n",
    "DON'T MODIFY ANYTHING IN THIS CELL THAT IS BELOW THIS LINE\n",
    "\"\"\"\n",
    "tests.test_process_decoding_input(process_decoding_input)"
   ]
  },
  {
   "cell_type": "markdown",
   "metadata": {
    "deletable": true,
    "editable": true
   },
   "source": [
    "### Encoding\n",
    "Implement `encoding_layer()` to create a Encoder RNN layer using [`tf.nn.dynamic_rnn()`](https://www.tensorflow.org/api_docs/python/tf/nn/dynamic_rnn)."
   ]
  },
  {
   "cell_type": "code",
   "execution_count": 13,
   "metadata": {
    "collapsed": false,
    "deletable": true,
    "editable": true
   },
   "outputs": [
    {
     "name": "stdout",
     "output_type": "stream",
     "text": [
      "Tests Passed\n"
     ]
    }
   ],
   "source": [
    "def encoding_layer(rnn_inputs, rnn_size, num_layers, keep_prob):\n",
    "    \"\"\"\n",
    "    Create encoding layer\n",
    "    :param rnn_inputs: Inputs for the RNN\n",
    "    :param rnn_size: RNN Size\n",
    "    :param num_layers: Number of layers\n",
    "    :param keep_prob: Dropout keep probability\n",
    "    :return: RNN state\n",
    "    \"\"\"\n",
    "    # TODO: Implement Function\n",
    "    lstm = tf.contrib.rnn.BasicLSTMCell(rnn_size)\n",
    "    lstm_D = tf.contrib.rnn.DropoutWrapper(lstm, output_keep_prob=keep_prob)\n",
    "    cells = tf.contrib.rnn.MultiRNNCell([lstm_D] * num_layers)\n",
    "    _, cells_state = tf.nn.dynamic_rnn(cells, rnn_inputs, dtype=tf.float32)\n",
    "    return cells_state\n",
    "\n",
    "\"\"\"\n",
    "DON'T MODIFY ANYTHING IN THIS CELL THAT IS BELOW THIS LINE\n",
    "\"\"\"\n",
    "tests.test_encoding_layer(encoding_layer)"
   ]
  },
  {
   "cell_type": "markdown",
   "metadata": {
    "deletable": true,
    "editable": true
   },
   "source": [
    "### Decoding - Training\n",
    "Create training logits using [`tf.contrib.seq2seq.simple_decoder_fn_train()`](https://www.tensorflow.org/versions/r1.0/api_docs/python/tf/contrib/seq2seq/simple_decoder_fn_train) and [`tf.contrib.seq2seq.dynamic_rnn_decoder()`](https://www.tensorflow.org/versions/r1.0/api_docs/python/tf/contrib/seq2seq/dynamic_rnn_decoder).  Apply the `output_fn` to the [`tf.contrib.seq2seq.dynamic_rnn_decoder()`](https://www.tensorflow.org/versions/r1.0/api_docs/python/tf/contrib/seq2seq/dynamic_rnn_decoder) outputs."
   ]
  },
  {
   "cell_type": "code",
   "execution_count": 14,
   "metadata": {
    "collapsed": false,
    "deletable": true,
    "editable": true
   },
   "outputs": [
    {
     "name": "stdout",
     "output_type": "stream",
     "text": [
      "Tests Passed\n"
     ]
    }
   ],
   "source": [
    "def decoding_layer_train(encoder_state, dec_cell, dec_embed_input, sequence_length, decoding_scope,\n",
    "                         output_fn, keep_prob):\n",
    "    \"\"\"\n",
    "    Create a decoding layer for training\n",
    "    :param encoder_state: Encoder State\n",
    "    :param dec_cell: Decoder RNN Cell\n",
    "    :param dec_embed_input: Decoder embedded input\n",
    "    :param sequence_length: Sequence Length\n",
    "    :param decoding_scope: TenorFlow Variable Scope for decoding\n",
    "    :param output_fn: Function to apply the output layer\n",
    "    :param keep_prob: Dropout keep probability\n",
    "    :return: Train Logits\n",
    "    \"\"\"\n",
    "    # TODO: Implement Function\n",
    "    EncTo_Decd_Train= tf.contrib.seq2seq.simple_decoder_fn_train(encoder_state)\n",
    "    TrainingPrediction,_,_ = tf.contrib.seq2seq.dynamic_rnn_decoder(dec_cell, EncTo_Decd_Train, inputs=dec_embed_input, sequence_length=sequence_length, parallel_iterations=None, swap_memory=False, time_major=False, scope=decoding_scope, name=None)\n",
    "    Train_logits=output_fn(TrainingPrediction)\n",
    "    return Train_logits\n",
    "\n",
    "\n",
    "\"\"\"\n",
    "DON'T MODIFY ANYTHING IN THIS CELL THAT IS BELOW THIS LINE\n",
    "\"\"\"\n",
    "tests.test_decoding_layer_train(decoding_layer_train)"
   ]
  },
  {
   "cell_type": "markdown",
   "metadata": {
    "deletable": true,
    "editable": true
   },
   "source": [
    "### Decoding - Inference\n",
    "Create inference logits using [`tf.contrib.seq2seq.simple_decoder_fn_inference()`](https://www.tensorflow.org/versions/r1.0/api_docs/python/tf/contrib/seq2seq/simple_decoder_fn_inference) and [`tf.contrib.seq2seq.dynamic_rnn_decoder()`](https://www.tensorflow.org/versions/r1.0/api_docs/python/tf/contrib/seq2seq/dynamic_rnn_decoder). "
   ]
  },
  {
   "cell_type": "code",
   "execution_count": 15,
   "metadata": {
    "collapsed": false,
    "deletable": true,
    "editable": true
   },
   "outputs": [
    {
     "name": "stdout",
     "output_type": "stream",
     "text": [
      "Tests Passed\n"
     ]
    }
   ],
   "source": [
    "def decoding_layer_infer(encoder_state, dec_cell, dec_embeddings, start_of_sequence_id, end_of_sequence_id,\n",
    "                         maximum_length, vocab_size, decoding_scope, output_fn, keep_prob):\n",
    "    \"\"\"\n",
    "    Create a decoding layer for inference\n",
    "    :param encoder_state: Encoder state\n",
    "    :param dec_cell: Decoder RNN Cell\n",
    "    :param dec_embeddings: Decoder embeddings\n",
    "    :param start_of_sequence_id: GO ID\n",
    "    :param end_of_sequence_id: EOS Id\n",
    "    :param maximum_length: The maximum allowed time steps to decode\n",
    "    :param vocab_size: Size of vocabulary\n",
    "    :param decoding_scope: TensorFlow Variable Scope for decoding\n",
    "    :param output_fn: Function to apply the output layer\n",
    "    :param keep_prob: Dropout keep probability\n",
    "    :return: Inference Logits\n",
    "    \"\"\"\n",
    "    # TODO: Implement Function\n",
    "    Decd_Infer = tf.contrib.seq2seq.simple_decoder_fn_inference(output_fn, encoder_state, dec_embeddings,\n",
    "                                    start_of_sequence_id, end_of_sequence_id, maximum_length, vocab_size)\n",
    "    Inference_logits, _,_ = tf.contrib.seq2seq.dynamic_rnn_decoder(dec_cell, Decd_Infer, scope= decoding_scope)\n",
    "    \n",
    "    return Inference_logits\n",
    "\n",
    "\n",
    "\"\"\"\n",
    "DON'T MODIFY ANYTHING IN THIS CELL THAT IS BELOW THIS LINE\n",
    "\"\"\"\n",
    "tests.test_decoding_layer_infer(decoding_layer_infer)"
   ]
  },
  {
   "cell_type": "markdown",
   "metadata": {
    "deletable": true,
    "editable": true
   },
   "source": [
    "### Build the Decoding Layer\n",
    "Implement `decoding_layer()` to create a Decoder RNN layer.\n",
    "\n",
    "- Create RNN cell for decoding using `rnn_size` and `num_layers`.\n",
    "- Create the output fuction using [`lambda`](https://docs.python.org/3/tutorial/controlflow.html#lambda-expressions) to transform it's input, logits, to class logits.\n",
    "- Use the your `decoding_layer_train(encoder_state, dec_cell, dec_embed_input, sequence_length, decoding_scope, output_fn, keep_prob)` function to get the training logits.\n",
    "- Use your `decoding_layer_infer(encoder_state, dec_cell, dec_embeddings, start_of_sequence_id, end_of_sequence_id, maximum_length, vocab_size, decoding_scope, output_fn, keep_prob)` function to get the inference logits.\n",
    "\n",
    "Note: You'll need to use [tf.variable_scope](https://www.tensorflow.org/api_docs/python/tf/variable_scope) to share variables between training and inference."
   ]
  },
  {
   "cell_type": "code",
   "execution_count": 18,
   "metadata": {
    "collapsed": false,
    "deletable": true,
    "editable": true
   },
   "outputs": [
    {
     "name": "stdout",
     "output_type": "stream",
     "text": [
      "Tests Passed\n"
     ]
    }
   ],
   "source": [
    "def decoding_layer(dec_embed_input, dec_embeddings, encoder_state, vocab_size, sequence_length, rnn_size,\n",
    "                   num_layers, target_vocab_to_int, keep_prob):\n",
    "    \"\"\"\n",
    "    Create decoding layer\n",
    "    :param dec_embed_input: Decoder embedded input\n",
    "    :param dec_embeddings: Decoder embeddings\n",
    "    :param encoder_state: The encoded state\n",
    "    :param vocab_size: Size of vocabulary\n",
    "    :param sequence_length: Sequence Length\n",
    "    :param rnn_size: RNN Size\n",
    "    :param num_layers: Number of layers\n",
    "    :param target_vocab_to_int: Dictionary to go from the target words to an id\n",
    "    :param keep_prob: Dropout keep probability\n",
    "    :return: Tuple of (Training Logits, Inference Logits)\n",
    "    \"\"\"\n",
    "    # TODO: Implement Function\n",
    "    decoding_unit= tf.contrib.rnn.BasicLSTMCell(rnn_size)\n",
    "    decoding_unit_D = tf.contrib.rnn.DropoutWrapper(decoding_unit, output_keep_prob=keep_prob)\n",
    "    dec_cell= tf.contrib.rnn.MultiRNNCell([decoding_unit_D] * num_layers)\n",
    "    Start = target_vocab_to_int['<GO>']\n",
    "    End = target_vocab_to_int['<EOS>']\n",
    "    max_len= sequence_length - 1\n",
    "    with tf.variable_scope(\"decoding\") as decoding_scope:\n",
    "        output_fn = lambda x : tf.contrib.layers.fully_connected(x, vocab_size, None, scope=decoding_scope)\n",
    "        train_logits= decoding_layer_train(encoder_state, dec_cell, dec_embed_input, sequence_length, decoding_scope, output_fn, keep_prob)\n",
    "        decoding_scope.reuse_variables()\n",
    "        infer_logits= decoding_layer_infer(encoder_state, dec_cell, dec_embeddings, Start, End, max_len, vocab_size, decoding_scope, output_fn, keep_prob)\n",
    "    return train_logits, infer_logits\n",
    "\n",
    "\n",
    "\"\"\"\n",
    "DON'T MODIFY ANYTHING IN THIS CELL THAT IS BELOW THIS LINE\n",
    "\"\"\"\n",
    "tests.test_decoding_layer(decoding_layer)"
   ]
  },
  {
   "cell_type": "markdown",
   "metadata": {
    "deletable": true,
    "editable": true
   },
   "source": [
    "### Build the Neural Network\n",
    "Apply the functions you implemented above to:\n",
    "\n",
    "- Apply embedding to the input data for the encoder.\n",
    "- Encode the input using your `encoding_layer(rnn_inputs, rnn_size, num_layers, keep_prob)`.\n",
    "- Process target data using your `process_decoding_input(target_data, target_vocab_to_int, batch_size)` function.\n",
    "- Apply embedding to the target data for the decoder.\n",
    "- Decode the encoded input using your `decoding_layer(dec_embed_input, dec_embeddings, encoder_state, vocab_size, sequence_length, rnn_size, num_layers, target_vocab_to_int, keep_prob)`."
   ]
  },
  {
   "cell_type": "code",
   "execution_count": 20,
   "metadata": {
    "collapsed": false,
    "deletable": true,
    "editable": true
   },
   "outputs": [
    {
     "name": "stdout",
     "output_type": "stream",
     "text": [
      "Tests Passed\n"
     ]
    }
   ],
   "source": [
    "def seq2seq_model(input_data, target_data, keep_prob, batch_size, sequence_length, source_vocab_size, target_vocab_size,\n",
    "                  enc_embedding_size, dec_embedding_size, rnn_size, num_layers, target_vocab_to_int):\n",
    "    \"\"\"\n",
    "    Build the Sequence-to-Sequence part of the neural network\n",
    "    :param input_data: Input placeholder\n",
    "    :param target_data: Target placeholder\n",
    "    :param keep_prob: Dropout keep probability placeholder\n",
    "    :param batch_size: Batch Size\n",
    "    :param sequence_length: Sequence Length\n",
    "    :param source_vocab_size: Source vocabulary size\n",
    "    :param target_vocab_size: Target vocabulary size\n",
    "    :param enc_embedding_size: Decoder embedding size\n",
    "    :param dec_embedding_size: Encoder embedding size\n",
    "    :param rnn_size: RNN Size\n",
    "    :param num_layers: Number of layers\n",
    "    :param target_vocab_to_int: Dictionary to go from the target words to an id\n",
    "    :return: Tuple of (Training Logits, Inference Logits)\n",
    "    \"\"\"\n",
    "    # TODO: Implement Function\n",
    "    \n",
    "    rnnInputs = tf.contrib.layers.embed_sequence(input_data, source_vocab_size, enc_embedding_size)\n",
    "    encoderState = encoding_layer(rnnInputs, rnn_size, num_layers, keep_prob)\n",
    "    targetData = process_decoding_input(target_data, target_vocab_to_int, batch_size)\n",
    "    decEmbeddings = tf.Variable(tf.random_uniform([target_vocab_size, dec_embedding_size]))\n",
    "    decEmbedInput = tf.nn.embedding_lookup(decEmbeddings, targetData)\n",
    "    trainLogits, inferLogits = decoding_layer(decEmbedInput, decEmbeddings, encoderState, target_vocab_size, sequence_length, rnn_size, num_layers, target_vocab_to_int, keep_prob)    \n",
    "    return trainLogits, inferLogits\n",
    "\n",
    "\n",
    "\"\"\"\n",
    "DON'T MODIFY ANYTHING IN THIS CELL THAT IS BELOW THIS LINE\n",
    "\"\"\"\n",
    "tests.test_seq2seq_model(seq2seq_model)"
   ]
  },
  {
   "cell_type": "markdown",
   "metadata": {
    "deletable": true,
    "editable": true
   },
   "source": [
    "## Neural Network Training\n",
    "### Hyperparameters\n",
    "Tune the following parameters:\n",
    "\n",
    "- Set `epochs` to the number of epochs.\n",
    "- Set `batch_size` to the batch size.\n",
    "- Set `rnn_size` to the size of the RNNs.\n",
    "- Set `num_layers` to the number of layers.\n",
    "- Set `encoding_embedding_size` to the size of the embedding for the encoder.\n",
    "- Set `decoding_embedding_size` to the size of the embedding for the decoder.\n",
    "- Set `learning_rate` to the learning rate.\n",
    "- Set `keep_probability` to the Dropout keep probability"
   ]
  },
  {
   "cell_type": "code",
   "execution_count": 29,
   "metadata": {
    "collapsed": true,
    "deletable": true,
    "editable": true
   },
   "outputs": [],
   "source": [
    "# Number of Epochs\n",
    "epochs = 50\n",
    "# Batch Size\n",
    "batch_size = 256\n",
    "# RNN Size\n",
    "rnn_size = 128\n",
    "# Number of Layers\n",
    "num_layers = 2\n",
    "# Embedding Size\n",
    "encoding_embedding_size = 10\n",
    "decoding_embedding_size = 10\n",
    "# Learning Rate\n",
    "learning_rate = 0.003\n",
    "# Dropout Keep Probability\n",
    "keep_probability = 0.80"
   ]
  },
  {
   "cell_type": "markdown",
   "metadata": {
    "deletable": true,
    "editable": true
   },
   "source": [
    "### Build the Graph\n",
    "Build the graph using the neural network you implemented."
   ]
  },
  {
   "cell_type": "code",
   "execution_count": 23,
   "metadata": {
    "collapsed": false,
    "deletable": true,
    "editable": true
   },
   "outputs": [],
   "source": [
    "\"\"\"\n",
    "DON'T MODIFY ANYTHING IN THIS CELL\n",
    "\"\"\"\n",
    "save_path = 'checkpoints/dev'\n",
    "(source_int_text, target_int_text), (source_vocab_to_int, target_vocab_to_int), _ = helper.load_preprocess()\n",
    "max_source_sentence_length = max([len(sentence) for sentence in source_int_text])\n",
    "\n",
    "train_graph = tf.Graph()\n",
    "with train_graph.as_default():\n",
    "    input_data, targets, lr, keep_prob = model_inputs()\n",
    "    sequence_length = tf.placeholder_with_default(max_source_sentence_length, None, name='sequence_length')\n",
    "    input_shape = tf.shape(input_data)\n",
    "    \n",
    "    train_logits, inference_logits = seq2seq_model(\n",
    "        tf.reverse(input_data, [-1]), targets, keep_prob, batch_size, sequence_length, len(source_vocab_to_int), len(target_vocab_to_int),\n",
    "        encoding_embedding_size, decoding_embedding_size, rnn_size, num_layers, target_vocab_to_int)\n",
    "\n",
    "    tf.identity(inference_logits, 'logits')\n",
    "    with tf.name_scope(\"optimization\"):\n",
    "        # Loss function\n",
    "        cost = tf.contrib.seq2seq.sequence_loss(\n",
    "            train_logits,\n",
    "            targets,\n",
    "            tf.ones([input_shape[0], sequence_length]))\n",
    "\n",
    "        # Optimizer\n",
    "        optimizer = tf.train.AdamOptimizer(lr)\n",
    "\n",
    "        # Gradient Clipping\n",
    "        gradients = optimizer.compute_gradients(cost)\n",
    "        capped_gradients = [(tf.clip_by_value(grad, -1., 1.), var) for grad, var in gradients if grad is not None]\n",
    "        train_op = optimizer.apply_gradients(capped_gradients)"
   ]
  },
  {
   "cell_type": "markdown",
   "metadata": {
    "deletable": true,
    "editable": true
   },
   "source": [
    "### Train\n",
    "Train the neural network on the preprocessed data. If you have a hard time getting a good loss, check the forums to see if anyone is having the same problem."
   ]
  },
  {
   "cell_type": "code",
   "execution_count": 24,
   "metadata": {
    "collapsed": false,
    "deletable": true,
    "editable": true,
    "scrolled": true
   },
   "outputs": [
    {
     "name": "stdout",
     "output_type": "stream",
     "text": [
      "Epoch   0 Batch    0/538 - Train Accuracy:  0.234, Validation Accuracy:  0.316, Loss:  5.871\n",
      "Epoch   0 Batch    1/538 - Train Accuracy:  0.231, Validation Accuracy:  0.316, Loss:  5.703\n",
      "Epoch   0 Batch    2/538 - Train Accuracy:  0.252, Validation Accuracy:  0.316, Loss:  5.283\n",
      "Epoch   0 Batch    3/538 - Train Accuracy:  0.229, Validation Accuracy:  0.316, Loss:  4.759\n",
      "Epoch   0 Batch    4/538 - Train Accuracy:  0.237, Validation Accuracy:  0.316, Loss:  4.353\n",
      "Epoch   0 Batch    5/538 - Train Accuracy:  0.263, Validation Accuracy:  0.316, Loss:  4.073\n",
      "Epoch   0 Batch    6/538 - Train Accuracy:  0.302, Validation Accuracy:  0.346, Loss:  3.836\n",
      "Epoch   0 Batch    7/538 - Train Accuracy:  0.282, Validation Accuracy:  0.347, Loss:  3.798\n",
      "Epoch   0 Batch    8/538 - Train Accuracy:  0.280, Validation Accuracy:  0.347, Loss:  3.687\n",
      "Epoch   0 Batch    9/538 - Train Accuracy:  0.296, Validation Accuracy:  0.361, Loss:  3.621\n",
      "Epoch   0 Batch   10/538 - Train Accuracy:  0.286, Validation Accuracy:  0.369, Loss:  3.600\n",
      "Epoch   0 Batch   11/538 - Train Accuracy:  0.291, Validation Accuracy:  0.364, Loss:  3.536\n",
      "Epoch   0 Batch   12/538 - Train Accuracy:  0.277, Validation Accuracy:  0.355, Loss:  3.528\n",
      "Epoch   0 Batch   13/538 - Train Accuracy:  0.319, Validation Accuracy:  0.347, Loss:  3.279\n",
      "Epoch   0 Batch   14/538 - Train Accuracy:  0.274, Validation Accuracy:  0.347, Loss:  3.377\n",
      "Epoch   0 Batch   15/538 - Train Accuracy:  0.320, Validation Accuracy:  0.347, Loss:  3.233\n",
      "Epoch   0 Batch   16/538 - Train Accuracy:  0.302, Validation Accuracy:  0.347, Loss:  3.210\n",
      "Epoch   0 Batch   17/538 - Train Accuracy:  0.295, Validation Accuracy:  0.355, Loss:  3.312\n",
      "Epoch   0 Batch   18/538 - Train Accuracy:  0.283, Validation Accuracy:  0.355, Loss:  3.326\n",
      "Epoch   0 Batch   19/538 - Train Accuracy:  0.282, Validation Accuracy:  0.358, Loss:  3.320\n",
      "Epoch   0 Batch   20/538 - Train Accuracy:  0.324, Validation Accuracy:  0.371, Loss:  3.158\n",
      "Epoch   0 Batch   21/538 - Train Accuracy:  0.262, Validation Accuracy:  0.375, Loss:  3.369\n",
      "Epoch   0 Batch   22/538 - Train Accuracy:  0.308, Validation Accuracy:  0.375, Loss:  3.200\n",
      "Epoch   0 Batch   23/538 - Train Accuracy:  0.315, Validation Accuracy:  0.375, Loss:  3.199\n",
      "Epoch   0 Batch   24/538 - Train Accuracy:  0.329, Validation Accuracy:  0.373, Loss:  3.127\n",
      "Epoch   0 Batch   25/538 - Train Accuracy:  0.312, Validation Accuracy:  0.375, Loss:  3.205\n",
      "Epoch   0 Batch   26/538 - Train Accuracy:  0.312, Validation Accuracy:  0.381, Loss:  3.170\n",
      "Epoch   0 Batch   27/538 - Train Accuracy:  0.316, Validation Accuracy:  0.380, Loss:  3.149\n",
      "Epoch   0 Batch   28/538 - Train Accuracy:  0.370, Validation Accuracy:  0.376, Loss:  2.887\n",
      "Epoch   0 Batch   29/538 - Train Accuracy:  0.335, Validation Accuracy:  0.379, Loss:  3.035\n",
      "Epoch   0 Batch   30/538 - Train Accuracy:  0.320, Validation Accuracy:  0.390, Loss:  3.153\n",
      "Epoch   0 Batch   31/538 - Train Accuracy:  0.353, Validation Accuracy:  0.390, Loss:  2.994\n",
      "Epoch   0 Batch   32/538 - Train Accuracy:  0.334, Validation Accuracy:  0.383, Loss:  3.033\n",
      "Epoch   0 Batch   33/538 - Train Accuracy:  0.346, Validation Accuracy:  0.384, Loss:  2.999\n",
      "Epoch   0 Batch   34/538 - Train Accuracy:  0.317, Validation Accuracy:  0.381, Loss:  3.103\n",
      "Epoch   0 Batch   35/538 - Train Accuracy:  0.308, Validation Accuracy:  0.386, Loss:  3.095\n",
      "Epoch   0 Batch   36/538 - Train Accuracy:  0.345, Validation Accuracy:  0.385, Loss:  2.959\n",
      "Epoch   0 Batch   37/538 - Train Accuracy:  0.331, Validation Accuracy:  0.395, Loss:  3.047\n",
      "Epoch   0 Batch   38/538 - Train Accuracy:  0.311, Validation Accuracy:  0.390, Loss:  3.079\n",
      "Epoch   0 Batch   39/538 - Train Accuracy:  0.325, Validation Accuracy:  0.393, Loss:  3.053\n",
      "Epoch   0 Batch   40/538 - Train Accuracy:  0.390, Validation Accuracy:  0.398, Loss:  2.800\n",
      "Epoch   0 Batch   41/538 - Train Accuracy:  0.345, Validation Accuracy:  0.404, Loss:  3.003\n",
      "Epoch   0 Batch   42/538 - Train Accuracy:  0.342, Validation Accuracy:  0.403, Loss:  2.998\n",
      "Epoch   0 Batch   43/538 - Train Accuracy:  0.340, Validation Accuracy:  0.398, Loss:  3.032\n",
      "Epoch   0 Batch   44/538 - Train Accuracy:  0.330, Validation Accuracy:  0.399, Loss:  3.016\n",
      "Epoch   0 Batch   45/538 - Train Accuracy:  0.365, Validation Accuracy:  0.400, Loss:  2.876\n",
      "Epoch   0 Batch   46/538 - Train Accuracy:  0.333, Validation Accuracy:  0.399, Loss:  2.976\n",
      "Epoch   0 Batch   47/538 - Train Accuracy:  0.374, Validation Accuracy:  0.403, Loss:  2.859\n",
      "Epoch   0 Batch   48/538 - Train Accuracy:  0.385, Validation Accuracy:  0.407, Loss:  2.819\n",
      "Epoch   0 Batch   49/538 - Train Accuracy:  0.331, Validation Accuracy:  0.404, Loss:  2.960\n",
      "Epoch   0 Batch   50/538 - Train Accuracy:  0.270, Validation Accuracy:  0.324, Loss:  2.935\n",
      "Epoch   0 Batch   51/538 - Train Accuracy:  0.307, Validation Accuracy:  0.415, Loss:  3.361\n",
      "Epoch   0 Batch   52/538 - Train Accuracy:  0.349, Validation Accuracy:  0.405, Loss:  2.896\n",
      "Epoch   0 Batch   53/538 - Train Accuracy:  0.388, Validation Accuracy:  0.405, Loss:  2.723\n",
      "Epoch   0 Batch   54/538 - Train Accuracy:  0.348, Validation Accuracy:  0.404, Loss:  2.932\n",
      "Epoch   0 Batch   55/538 - Train Accuracy:  0.339, Validation Accuracy:  0.402, Loss:  2.998\n",
      "Epoch   0 Batch   56/538 - Train Accuracy:  0.369, Validation Accuracy:  0.400, Loss:  2.853\n",
      "Epoch   0 Batch   57/538 - Train Accuracy:  0.325, Validation Accuracy:  0.394, Loss:  2.967\n",
      "Epoch   0 Batch   58/538 - Train Accuracy:  0.335, Validation Accuracy:  0.405, Loss:  2.977\n",
      "Epoch   0 Batch   59/538 - Train Accuracy:  0.339, Validation Accuracy:  0.403, Loss:  2.922\n",
      "Epoch   0 Batch   60/538 - Train Accuracy:  0.345, Validation Accuracy:  0.410, Loss:  2.911\n",
      "Epoch   0 Batch   61/538 - Train Accuracy:  0.345, Validation Accuracy:  0.411, Loss:  2.930\n",
      "Epoch   0 Batch   62/538 - Train Accuracy:  0.373, Validation Accuracy:  0.406, Loss:  2.777\n",
      "Epoch   0 Batch   63/538 - Train Accuracy:  0.370, Validation Accuracy:  0.402, Loss:  2.786\n",
      "Epoch   0 Batch   64/538 - Train Accuracy:  0.378, Validation Accuracy:  0.412, Loss:  2.746\n",
      "Epoch   0 Batch   65/538 - Train Accuracy:  0.334, Validation Accuracy:  0.412, Loss:  2.947\n",
      "Epoch   0 Batch   66/538 - Train Accuracy:  0.383, Validation Accuracy:  0.412, Loss:  2.713\n",
      "Epoch   0 Batch   67/538 - Train Accuracy:  0.362, Validation Accuracy:  0.420, Loss:  2.824\n",
      "Epoch   0 Batch   68/538 - Train Accuracy:  0.387, Validation Accuracy:  0.421, Loss:  2.639\n",
      "Epoch   0 Batch   69/538 - Train Accuracy:  0.376, Validation Accuracy:  0.436, Loss:  2.794\n",
      "Epoch   0 Batch   70/538 - Train Accuracy:  0.402, Validation Accuracy:  0.433, Loss:  2.675\n",
      "Epoch   0 Batch   71/538 - Train Accuracy:  0.378, Validation Accuracy:  0.433, Loss:  2.777\n",
      "Epoch   0 Batch   72/538 - Train Accuracy:  0.396, Validation Accuracy:  0.426, Loss:  2.619\n",
      "Epoch   0 Batch   73/538 - Train Accuracy:  0.365, Validation Accuracy:  0.425, Loss:  2.802\n",
      "Epoch   0 Batch   74/538 - Train Accuracy:  0.419, Validation Accuracy:  0.443, Loss:  2.671\n",
      "Epoch   0 Batch   75/538 - Train Accuracy:  0.411, Validation Accuracy:  0.437, Loss:  2.617\n",
      "Epoch   0 Batch   76/538 - Train Accuracy:  0.382, Validation Accuracy:  0.443, Loss:  2.786\n",
      "Epoch   0 Batch   77/538 - Train Accuracy:  0.375, Validation Accuracy:  0.441, Loss:  2.751\n",
      "Epoch   0 Batch   78/538 - Train Accuracy:  0.419, Validation Accuracy:  0.438, Loss:  2.639\n",
      "Epoch   0 Batch   79/538 - Train Accuracy:  0.411, Validation Accuracy:  0.446, Loss:  2.593\n",
      "Epoch   0 Batch   80/538 - Train Accuracy:  0.389, Validation Accuracy:  0.446, Loss:  2.707\n",
      "Epoch   0 Batch   81/538 - Train Accuracy:  0.381, Validation Accuracy:  0.442, Loss:  2.705\n",
      "Epoch   0 Batch   82/538 - Train Accuracy:  0.390, Validation Accuracy:  0.444, Loss:  2.651\n",
      "Epoch   0 Batch   83/538 - Train Accuracy:  0.385, Validation Accuracy:  0.451, Loss:  2.669\n",
      "Epoch   0 Batch   84/538 - Train Accuracy:  0.422, Validation Accuracy:  0.451, Loss:  2.562\n",
      "Epoch   0 Batch   85/538 - Train Accuracy:  0.434, Validation Accuracy:  0.455, Loss:  2.450\n",
      "Epoch   0 Batch   86/538 - Train Accuracy:  0.406, Validation Accuracy:  0.451, Loss:  2.641\n",
      "Epoch   0 Batch   87/538 - Train Accuracy:  0.399, Validation Accuracy:  0.456, Loss:  2.599\n",
      "Epoch   0 Batch   88/538 - Train Accuracy:  0.415, Validation Accuracy:  0.467, Loss:  2.589\n",
      "Epoch   0 Batch   89/538 - Train Accuracy:  0.419, Validation Accuracy:  0.466, Loss:  2.577\n",
      "Epoch   0 Batch   90/538 - Train Accuracy:  0.430, Validation Accuracy:  0.463, Loss:  2.491\n",
      "Epoch   0 Batch   91/538 - Train Accuracy:  0.405, Validation Accuracy:  0.468, Loss:  2.579\n",
      "Epoch   0 Batch   92/538 - Train Accuracy:  0.416, Validation Accuracy:  0.467, Loss:  2.549\n",
      "Epoch   0 Batch   93/538 - Train Accuracy:  0.414, Validation Accuracy:  0.470, Loss:  2.553\n",
      "Epoch   0 Batch   94/538 - Train Accuracy:  0.411, Validation Accuracy:  0.470, Loss:  2.583\n",
      "Epoch   0 Batch   95/538 - Train Accuracy:  0.466, Validation Accuracy:  0.470, Loss:  2.330\n",
      "Epoch   0 Batch   96/538 - Train Accuracy:  0.447, Validation Accuracy:  0.470, Loss:  2.380\n",
      "Epoch   0 Batch   97/538 - Train Accuracy:  0.409, Validation Accuracy:  0.467, Loss:  2.502\n",
      "Epoch   0 Batch   98/538 - Train Accuracy:  0.449, Validation Accuracy:  0.469, Loss:  2.335\n",
      "Epoch   0 Batch   99/538 - Train Accuracy:  0.412, Validation Accuracy:  0.477, Loss:  2.520\n",
      "Epoch   0 Batch  100/538 - Train Accuracy:  0.412, Validation Accuracy:  0.461, Loss:  2.445\n",
      "Epoch   0 Batch  101/538 - Train Accuracy:  0.420, Validation Accuracy:  0.477, Loss:  2.479\n",
      "Epoch   0 Batch  102/538 - Train Accuracy:  0.427, Validation Accuracy:  0.483, Loss:  2.498\n",
      "Epoch   0 Batch  103/538 - Train Accuracy:  0.426, Validation Accuracy:  0.465, Loss:  2.402\n",
      "Epoch   0 Batch  104/538 - Train Accuracy:  0.444, Validation Accuracy:  0.475, Loss:  2.424\n",
      "Epoch   0 Batch  105/538 - Train Accuracy:  0.447, Validation Accuracy:  0.486, Loss:  2.351\n",
      "Epoch   0 Batch  106/538 - Train Accuracy:  0.416, Validation Accuracy:  0.467, Loss:  2.439\n",
      "Epoch   0 Batch  107/538 - Train Accuracy:  0.412, Validation Accuracy:  0.480, Loss:  2.465\n",
      "Epoch   0 Batch  108/538 - Train Accuracy:  0.419, Validation Accuracy:  0.461, Loss:  2.389\n",
      "Epoch   0 Batch  109/538 - Train Accuracy:  0.441, Validation Accuracy:  0.480, Loss:  2.437\n",
      "Epoch   0 Batch  110/538 - Train Accuracy:  0.407, Validation Accuracy:  0.465, Loss:  2.418\n",
      "Epoch   0 Batch  111/538 - Train Accuracy:  0.459, Validation Accuracy:  0.480, Loss:  2.326\n",
      "Epoch   0 Batch  112/538 - Train Accuracy:  0.412, Validation Accuracy:  0.474, Loss:  2.400\n",
      "Epoch   0 Batch  113/538 - Train Accuracy:  0.413, Validation Accuracy:  0.472, Loss:  2.412\n",
      "Epoch   0 Batch  114/538 - Train Accuracy:  0.455, Validation Accuracy:  0.475, Loss:  2.261\n",
      "Epoch   0 Batch  115/538 - Train Accuracy:  0.414, Validation Accuracy:  0.466, Loss:  2.342\n",
      "Epoch   0 Batch  116/538 - Train Accuracy:  0.450, Validation Accuracy:  0.485, Loss:  2.317\n",
      "Epoch   0 Batch  117/538 - Train Accuracy:  0.439, Validation Accuracy:  0.463, Loss:  2.254\n",
      "Epoch   0 Batch  118/538 - Train Accuracy:  0.461, Validation Accuracy:  0.480, Loss:  2.267\n",
      "Epoch   0 Batch  119/538 - Train Accuracy:  0.452, Validation Accuracy:  0.477, Loss:  2.218\n",
      "Epoch   0 Batch  120/538 - Train Accuracy:  0.434, Validation Accuracy:  0.486, Loss:  2.359\n",
      "Epoch   0 Batch  121/538 - Train Accuracy:  0.445, Validation Accuracy:  0.467, Loss:  2.182\n",
      "Epoch   0 Batch  122/538 - Train Accuracy:  0.440, Validation Accuracy:  0.483, Loss:  2.240\n",
      "Epoch   0 Batch  123/538 - Train Accuracy:  0.458, Validation Accuracy:  0.473, Loss:  2.152\n",
      "Epoch   0 Batch  124/538 - Train Accuracy:  0.476, Validation Accuracy:  0.485, Loss:  2.156\n",
      "Epoch   0 Batch  125/538 - Train Accuracy:  0.452, Validation Accuracy:  0.476, Loss:  2.186\n",
      "Epoch   0 Batch  126/538 - Train Accuracy:  0.477, Validation Accuracy:  0.484, Loss:  2.137\n",
      "Epoch   0 Batch  127/538 - Train Accuracy:  0.422, Validation Accuracy:  0.482, Loss:  2.289\n",
      "Epoch   0 Batch  128/538 - Train Accuracy:  0.461, Validation Accuracy:  0.489, Loss:  2.157\n",
      "Epoch   0 Batch  129/538 - Train Accuracy:  0.454, Validation Accuracy:  0.489, Loss:  2.162\n",
      "Epoch   0 Batch  130/538 - Train Accuracy:  0.440, Validation Accuracy:  0.480, Loss:  2.171\n",
      "Epoch   0 Batch  131/538 - Train Accuracy:  0.434, Validation Accuracy:  0.485, Loss:  2.271\n",
      "Epoch   0 Batch  132/538 - Train Accuracy:  0.459, Validation Accuracy:  0.487, Loss:  2.108\n",
      "Epoch   0 Batch  133/538 - Train Accuracy:  0.456, Validation Accuracy:  0.477, Loss:  2.063\n",
      "Epoch   0 Batch  134/538 - Train Accuracy:  0.419, Validation Accuracy:  0.488, Loss:  2.297\n",
      "Epoch   0 Batch  135/538 - Train Accuracy:  0.458, Validation Accuracy:  0.491, Loss:  2.130\n",
      "Epoch   0 Batch  136/538 - Train Accuracy:  0.436, Validation Accuracy:  0.480, Loss:  2.139\n",
      "Epoch   0 Batch  137/538 - Train Accuracy:  0.446, Validation Accuracy:  0.487, Loss:  2.120\n",
      "Epoch   0 Batch  138/538 - Train Accuracy:  0.455, Validation Accuracy:  0.489, Loss:  2.114\n",
      "Epoch   0 Batch  139/538 - Train Accuracy:  0.404, Validation Accuracy:  0.467, Loss:  2.270\n",
      "Epoch   0 Batch  140/538 - Train Accuracy:  0.432, Validation Accuracy:  0.488, Loss:  2.287\n",
      "Epoch   0 Batch  141/538 - Train Accuracy:  0.432, Validation Accuracy:  0.489, Loss:  2.237\n",
      "Epoch   0 Batch  142/538 - Train Accuracy:  0.449, Validation Accuracy:  0.467, Loss:  2.043\n",
      "Epoch   0 Batch  143/538 - Train Accuracy:  0.424, Validation Accuracy:  0.484, Loss:  2.243\n",
      "Epoch   0 Batch  144/538 - Train Accuracy:  0.445, Validation Accuracy:  0.490, Loss:  2.168\n",
      "Epoch   0 Batch  145/538 - Train Accuracy:  0.440, Validation Accuracy:  0.477, Loss:  2.092\n",
      "Epoch   0 Batch  146/538 - Train Accuracy:  0.453, Validation Accuracy:  0.481, Loss:  1.999\n",
      "Epoch   0 Batch  147/538 - Train Accuracy:  0.472, Validation Accuracy:  0.492, Loss:  2.054\n",
      "Epoch   0 Batch  148/538 - Train Accuracy:  0.418, Validation Accuracy:  0.488, Loss:  2.184\n",
      "Epoch   0 Batch  149/538 - Train Accuracy:  0.414, Validation Accuracy:  0.476, Loss:  2.101\n",
      "Epoch   0 Batch  150/538 - Train Accuracy:  0.444, Validation Accuracy:  0.491, Loss:  2.113\n",
      "Epoch   0 Batch  151/538 - Train Accuracy:  0.455, Validation Accuracy:  0.490, Loss:  2.002\n",
      "Epoch   0 Batch  152/538 - Train Accuracy:  0.446, Validation Accuracy:  0.484, Loss:  2.023\n",
      "Epoch   0 Batch  153/538 - Train Accuracy:  0.426, Validation Accuracy:  0.482, Loss:  2.075\n",
      "Epoch   0 Batch  154/538 - Train Accuracy:  0.454, Validation Accuracy:  0.488, Loss:  2.013\n",
      "Epoch   0 Batch  155/538 - Train Accuracy:  0.456, Validation Accuracy:  0.479, Loss:  2.012\n",
      "Epoch   0 Batch  156/538 - Train Accuracy:  0.421, Validation Accuracy:  0.475, Loss:  2.073\n",
      "Epoch   0 Batch  157/538 - Train Accuracy:  0.440, Validation Accuracy:  0.483, Loss:  2.017\n",
      "Epoch   0 Batch  158/538 - Train Accuracy:  0.415, Validation Accuracy:  0.477, Loss:  2.119\n",
      "Epoch   0 Batch  159/538 - Train Accuracy:  0.415, Validation Accuracy:  0.476, Loss:  2.094\n",
      "Epoch   0 Batch  160/538 - Train Accuracy:  0.443, Validation Accuracy:  0.481, Loss:  1.964\n",
      "Epoch   0 Batch  161/538 - Train Accuracy:  0.450, Validation Accuracy:  0.491, Loss:  2.010\n",
      "Epoch   0 Batch  162/538 - Train Accuracy:  0.476, Validation Accuracy:  0.489, Loss:  1.906\n",
      "Epoch   0 Batch  163/538 - Train Accuracy:  0.445, Validation Accuracy:  0.483, Loss:  1.991\n",
      "Epoch   0 Batch  164/538 - Train Accuracy:  0.441, Validation Accuracy:  0.491, Loss:  2.082\n",
      "Epoch   0 Batch  165/538 - Train Accuracy:  0.462, Validation Accuracy:  0.479, Loss:  1.870\n",
      "Epoch   0 Batch  166/538 - Train Accuracy:  0.443, Validation Accuracy:  0.488, Loss:  2.042\n",
      "Epoch   0 Batch  167/538 - Train Accuracy:  0.477, Validation Accuracy:  0.485, Loss:  1.878\n",
      "Epoch   0 Batch  168/538 - Train Accuracy:  0.417, Validation Accuracy:  0.482, Loss:  1.990\n",
      "Epoch   0 Batch  169/538 - Train Accuracy:  0.430, Validation Accuracy:  0.484, Loss:  1.980\n",
      "Epoch   0 Batch  170/538 - Train Accuracy:  0.450, Validation Accuracy:  0.479, Loss:  1.932\n",
      "Epoch   0 Batch  171/538 - Train Accuracy:  0.431, Validation Accuracy:  0.489, Loss:  1.983\n",
      "Epoch   0 Batch  172/538 - Train Accuracy:  0.440, Validation Accuracy:  0.481, Loss:  1.937\n",
      "Epoch   0 Batch  173/538 - Train Accuracy:  0.452, Validation Accuracy:  0.473, Loss:  1.925\n",
      "Epoch   0 Batch  174/538 - Train Accuracy:  0.399, Validation Accuracy:  0.479, Loss:  2.065\n",
      "Epoch   0 Batch  175/538 - Train Accuracy:  0.396, Validation Accuracy:  0.483, Loss:  2.076\n",
      "Epoch   0 Batch  176/538 - Train Accuracy:  0.428, Validation Accuracy:  0.483, Loss:  1.995\n",
      "Epoch   0 Batch  177/538 - Train Accuracy:  0.459, Validation Accuracy:  0.501, Loss:  1.937\n",
      "Epoch   0 Batch  178/538 - Train Accuracy:  0.480, Validation Accuracy:  0.499, Loss:  1.836\n",
      "Epoch   0 Batch  179/538 - Train Accuracy:  0.433, Validation Accuracy:  0.492, Loss:  1.944\n",
      "Epoch   0 Batch  180/538 - Train Accuracy:  0.456, Validation Accuracy:  0.480, Loss:  1.879\n",
      "Epoch   0 Batch  181/538 - Train Accuracy:  0.416, Validation Accuracy:  0.488, Loss:  1.967\n",
      "Epoch   0 Batch  182/538 - Train Accuracy:  0.420, Validation Accuracy:  0.494, Loss:  1.947\n",
      "Epoch   0 Batch  183/538 - Train Accuracy:  0.447, Validation Accuracy:  0.484, Loss:  1.843\n",
      "Epoch   0 Batch  184/538 - Train Accuracy:  0.453, Validation Accuracy:  0.490, Loss:  1.858\n",
      "Epoch   0 Batch  185/538 - Train Accuracy:  0.440, Validation Accuracy:  0.486, Loss:  1.889\n",
      "Epoch   0 Batch  186/538 - Train Accuracy:  0.436, Validation Accuracy:  0.482, Loss:  1.865\n",
      "Epoch   0 Batch  187/538 - Train Accuracy:  0.476, Validation Accuracy:  0.488, Loss:  1.788\n",
      "Epoch   0 Batch  188/538 - Train Accuracy:  0.415, Validation Accuracy:  0.479, Loss:  1.919\n",
      "Epoch   0 Batch  189/538 - Train Accuracy:  0.435, Validation Accuracy:  0.483, Loss:  1.881\n",
      "Epoch   0 Batch  190/538 - Train Accuracy:  0.439, Validation Accuracy:  0.477, Loss:  1.874\n",
      "Epoch   0 Batch  191/538 - Train Accuracy:  0.477, Validation Accuracy:  0.494, Loss:  1.801\n",
      "Epoch   0 Batch  192/538 - Train Accuracy:  0.459, Validation Accuracy:  0.493, Loss:  1.799\n",
      "Epoch   0 Batch  193/538 - Train Accuracy:  0.460, Validation Accuracy:  0.490, Loss:  1.750\n",
      "Epoch   0 Batch  194/538 - Train Accuracy:  0.432, Validation Accuracy:  0.494, Loss:  1.871\n",
      "Epoch   0 Batch  195/538 - Train Accuracy:  0.451, Validation Accuracy:  0.481, Loss:  1.769\n",
      "Epoch   0 Batch  196/538 - Train Accuracy:  0.436, Validation Accuracy:  0.480, Loss:  1.785\n",
      "Epoch   0 Batch  197/538 - Train Accuracy:  0.472, Validation Accuracy:  0.488, Loss:  1.754\n",
      "Epoch   0 Batch  198/538 - Train Accuracy:  0.461, Validation Accuracy:  0.479, Loss:  1.755\n",
      "Epoch   0 Batch  199/538 - Train Accuracy:  0.422, Validation Accuracy:  0.484, Loss:  1.893\n",
      "Epoch   0 Batch  200/538 - Train Accuracy:  0.429, Validation Accuracy:  0.486, Loss:  1.834\n",
      "Epoch   0 Batch  201/538 - Train Accuracy:  0.480, Validation Accuracy:  0.489, Loss:  1.723\n",
      "Epoch   0 Batch  202/538 - Train Accuracy:  0.430, Validation Accuracy:  0.492, Loss:  1.875\n",
      "Epoch   0 Batch  203/538 - Train Accuracy:  0.429, Validation Accuracy:  0.486, Loss:  1.831\n",
      "Epoch   0 Batch  204/538 - Train Accuracy:  0.427, Validation Accuracy:  0.490, Loss:  1.816\n",
      "Epoch   0 Batch  205/538 - Train Accuracy:  0.470, Validation Accuracy:  0.495, Loss:  1.717\n",
      "Epoch   0 Batch  206/538 - Train Accuracy:  0.416, Validation Accuracy:  0.487, Loss:  1.787\n",
      "Epoch   0 Batch  207/538 - Train Accuracy:  0.461, Validation Accuracy:  0.494, Loss:  1.745\n",
      "Epoch   0 Batch  208/538 - Train Accuracy:  0.437, Validation Accuracy:  0.493, Loss:  1.784\n",
      "Epoch   0 Batch  209/538 - Train Accuracy:  0.423, Validation Accuracy:  0.496, Loss:  1.800\n",
      "Epoch   0 Batch  210/538 - Train Accuracy:  0.461, Validation Accuracy:  0.481, Loss:  1.679\n",
      "Epoch   0 Batch  211/538 - Train Accuracy:  0.410, Validation Accuracy:  0.473, Loss:  1.785\n",
      "Epoch   0 Batch  212/538 - Train Accuracy:  0.440, Validation Accuracy:  0.474, Loss:  1.677\n",
      "Epoch   0 Batch  213/538 - Train Accuracy:  0.434, Validation Accuracy:  0.482, Loss:  1.714\n",
      "Epoch   0 Batch  214/538 - Train Accuracy:  0.426, Validation Accuracy:  0.485, Loss:  1.736\n",
      "Epoch   0 Batch  215/538 - Train Accuracy:  0.430, Validation Accuracy:  0.484, Loss:  1.754\n",
      "Epoch   0 Batch  216/538 - Train Accuracy:  0.397, Validation Accuracy:  0.486, Loss:  1.741\n",
      "Epoch   0 Batch  217/538 - Train Accuracy:  0.442, Validation Accuracy:  0.483, Loss:  1.661\n",
      "Epoch   0 Batch  218/538 - Train Accuracy:  0.426, Validation Accuracy:  0.493, Loss:  1.703\n",
      "Epoch   0 Batch  219/538 - Train Accuracy:  0.421, Validation Accuracy:  0.476, Loss:  1.754\n",
      "Epoch   0 Batch  220/538 - Train Accuracy:  0.438, Validation Accuracy:  0.484, Loss:  1.671\n",
      "Epoch   0 Batch  221/538 - Train Accuracy:  0.450, Validation Accuracy:  0.473, Loss:  1.703\n",
      "Epoch   0 Batch  222/538 - Train Accuracy:  0.455, Validation Accuracy:  0.484, Loss:  1.613\n",
      "Epoch   0 Batch  223/538 - Train Accuracy:  0.426, Validation Accuracy:  0.483, Loss:  1.734\n",
      "Epoch   0 Batch  224/538 - Train Accuracy:  0.415, Validation Accuracy:  0.476, Loss:  1.726\n",
      "Epoch   0 Batch  225/538 - Train Accuracy:  0.451, Validation Accuracy:  0.479, Loss:  1.615\n",
      "Epoch   0 Batch  226/538 - Train Accuracy:  0.453, Validation Accuracy:  0.494, Loss:  1.593\n",
      "Epoch   0 Batch  227/538 - Train Accuracy:  0.482, Validation Accuracy:  0.493, Loss:  1.518\n",
      "Epoch   0 Batch  228/538 - Train Accuracy:  0.428, Validation Accuracy:  0.479, Loss:  1.585\n",
      "Epoch   0 Batch  229/538 - Train Accuracy:  0.443, Validation Accuracy:  0.488, Loss:  1.586\n",
      "Epoch   0 Batch  230/538 - Train Accuracy:  0.435, Validation Accuracy:  0.493, Loss:  1.632\n",
      "Epoch   0 Batch  231/538 - Train Accuracy:  0.438, Validation Accuracy:  0.489, Loss:  1.604\n",
      "Epoch   0 Batch  232/538 - Train Accuracy:  0.425, Validation Accuracy:  0.485, Loss:  1.611\n",
      "Epoch   0 Batch  233/538 - Train Accuracy:  0.455, Validation Accuracy:  0.479, Loss:  1.558\n",
      "Epoch   0 Batch  234/538 - Train Accuracy:  0.411, Validation Accuracy:  0.471, Loss:  1.618\n",
      "Epoch   0 Batch  235/538 - Train Accuracy:  0.419, Validation Accuracy:  0.467, Loss:  1.545\n",
      "Epoch   0 Batch  236/538 - Train Accuracy:  0.399, Validation Accuracy:  0.478, Loss:  1.594\n",
      "Epoch   0 Batch  237/538 - Train Accuracy:  0.453, Validation Accuracy:  0.476, Loss:  1.534\n",
      "Epoch   0 Batch  238/538 - Train Accuracy:  0.454, Validation Accuracy:  0.477, Loss:  1.475\n",
      "Epoch   0 Batch  239/538 - Train Accuracy:  0.418, Validation Accuracy:  0.472, Loss:  1.598\n",
      "Epoch   0 Batch  240/538 - Train Accuracy:  0.425, Validation Accuracy:  0.481, Loss:  1.572\n",
      "Epoch   0 Batch  241/538 - Train Accuracy:  0.415, Validation Accuracy:  0.482, Loss:  1.554\n",
      "Epoch   0 Batch  242/538 - Train Accuracy:  0.422, Validation Accuracy:  0.481, Loss:  1.544\n",
      "Epoch   0 Batch  243/538 - Train Accuracy:  0.388, Validation Accuracy:  0.475, Loss:  1.612\n",
      "Epoch   0 Batch  244/538 - Train Accuracy:  0.423, Validation Accuracy:  0.479, Loss:  1.488\n",
      "Epoch   0 Batch  245/538 - Train Accuracy:  0.431, Validation Accuracy:  0.488, Loss:  1.542\n",
      "Epoch   0 Batch  246/538 - Train Accuracy:  0.463, Validation Accuracy:  0.486, Loss:  1.452\n",
      "Epoch   0 Batch  247/538 - Train Accuracy:  0.398, Validation Accuracy:  0.472, Loss:  1.548\n",
      "Epoch   0 Batch  248/538 - Train Accuracy:  0.417, Validation Accuracy:  0.470, Loss:  1.534\n",
      "Epoch   0 Batch  249/538 - Train Accuracy:  0.437, Validation Accuracy:  0.476, Loss:  1.420\n",
      "Epoch   0 Batch  250/538 - Train Accuracy:  0.403, Validation Accuracy:  0.479, Loss:  1.497\n",
      "Epoch   0 Batch  251/538 - Train Accuracy:  0.409, Validation Accuracy:  0.475, Loss:  1.474\n",
      "Epoch   0 Batch  252/538 - Train Accuracy:  0.450, Validation Accuracy:  0.475, Loss:  1.406\n",
      "Epoch   0 Batch  253/538 - Train Accuracy:  0.442, Validation Accuracy:  0.473, Loss:  1.405\n",
      "Epoch   0 Batch  254/538 - Train Accuracy:  0.436, Validation Accuracy:  0.477, Loss:  1.483\n",
      "Epoch   0 Batch  255/538 - Train Accuracy:  0.416, Validation Accuracy:  0.478, Loss:  1.487\n",
      "Epoch   0 Batch  256/538 - Train Accuracy:  0.422, Validation Accuracy:  0.481, Loss:  1.494\n",
      "Epoch   0 Batch  257/538 - Train Accuracy:  0.444, Validation Accuracy:  0.466, Loss:  1.402\n",
      "Epoch   0 Batch  258/538 - Train Accuracy:  0.450, Validation Accuracy:  0.461, Loss:  1.385\n",
      "Epoch   0 Batch  259/538 - Train Accuracy:  0.436, Validation Accuracy:  0.467, Loss:  1.404\n",
      "Epoch   0 Batch  260/538 - Train Accuracy:  0.426, Validation Accuracy:  0.472, Loss:  1.414\n",
      "Epoch   0 Batch  261/538 - Train Accuracy:  0.397, Validation Accuracy:  0.474, Loss:  1.462\n",
      "Epoch   0 Batch  262/538 - Train Accuracy:  0.390, Validation Accuracy:  0.471, Loss:  1.487\n",
      "Epoch   0 Batch  263/538 - Train Accuracy:  0.428, Validation Accuracy:  0.477, Loss:  1.451\n",
      "Epoch   0 Batch  264/538 - Train Accuracy:  0.405, Validation Accuracy:  0.471, Loss:  1.423\n",
      "Epoch   0 Batch  265/538 - Train Accuracy:  0.404, Validation Accuracy:  0.480, Loss:  1.441\n",
      "Epoch   0 Batch  266/538 - Train Accuracy:  0.436, Validation Accuracy:  0.479, Loss:  1.374\n",
      "Epoch   0 Batch  267/538 - Train Accuracy:  0.432, Validation Accuracy:  0.483, Loss:  1.409\n",
      "Epoch   0 Batch  268/538 - Train Accuracy:  0.433, Validation Accuracy:  0.473, Loss:  1.341\n",
      "Epoch   0 Batch  269/538 - Train Accuracy:  0.420, Validation Accuracy:  0.470, Loss:  1.397\n",
      "Epoch   0 Batch  270/538 - Train Accuracy:  0.391, Validation Accuracy:  0.459, Loss:  1.406\n",
      "Epoch   0 Batch  271/538 - Train Accuracy:  0.393, Validation Accuracy:  0.475, Loss:  1.395\n",
      "Epoch   0 Batch  272/538 - Train Accuracy:  0.393, Validation Accuracy:  0.467, Loss:  1.463\n",
      "Epoch   0 Batch  273/538 - Train Accuracy:  0.431, Validation Accuracy:  0.480, Loss:  1.394\n",
      "Epoch   0 Batch  274/538 - Train Accuracy:  0.403, Validation Accuracy:  0.481, Loss:  1.432\n",
      "Epoch   0 Batch  275/538 - Train Accuracy:  0.418, Validation Accuracy:  0.482, Loss:  1.421\n",
      "Epoch   0 Batch  276/538 - Train Accuracy:  0.424, Validation Accuracy:  0.481, Loss:  1.381\n",
      "Epoch   0 Batch  277/538 - Train Accuracy:  0.429, Validation Accuracy:  0.474, Loss:  1.369\n",
      "Epoch   0 Batch  278/538 - Train Accuracy:  0.424, Validation Accuracy:  0.466, Loss:  1.355\n",
      "Epoch   0 Batch  279/538 - Train Accuracy:  0.428, Validation Accuracy:  0.466, Loss:  1.361\n",
      "Epoch   0 Batch  280/538 - Train Accuracy:  0.441, Validation Accuracy:  0.465, Loss:  1.301\n",
      "Epoch   0 Batch  281/538 - Train Accuracy:  0.419, Validation Accuracy:  0.470, Loss:  1.391\n",
      "Epoch   0 Batch  282/538 - Train Accuracy:  0.441, Validation Accuracy:  0.472, Loss:  1.302\n",
      "Epoch   0 Batch  283/538 - Train Accuracy:  0.433, Validation Accuracy:  0.470, Loss:  1.306\n",
      "Epoch   0 Batch  284/538 - Train Accuracy:  0.422, Validation Accuracy:  0.474, Loss:  1.330\n",
      "Epoch   0 Batch  285/538 - Train Accuracy:  0.419, Validation Accuracy:  0.471, Loss:  1.258\n",
      "Epoch   0 Batch  286/538 - Train Accuracy:  0.415, Validation Accuracy:  0.479, Loss:  1.351\n",
      "Epoch   0 Batch  287/538 - Train Accuracy:  0.447, Validation Accuracy:  0.478, Loss:  1.277\n",
      "Epoch   0 Batch  288/538 - Train Accuracy:  0.414, Validation Accuracy:  0.476, Loss:  1.337\n",
      "Epoch   0 Batch  289/538 - Train Accuracy:  0.454, Validation Accuracy:  0.477, Loss:  1.243\n",
      "Epoch   0 Batch  290/538 - Train Accuracy:  0.408, Validation Accuracy:  0.480, Loss:  1.319\n",
      "Epoch   0 Batch  291/538 - Train Accuracy:  0.424, Validation Accuracy:  0.481, Loss:  1.284\n",
      "Epoch   0 Batch  292/538 - Train Accuracy:  0.449, Validation Accuracy:  0.477, Loss:  1.235\n",
      "Epoch   0 Batch  293/538 - Train Accuracy:  0.454, Validation Accuracy:  0.475, Loss:  1.252\n",
      "Epoch   0 Batch  294/538 - Train Accuracy:  0.387, Validation Accuracy:  0.477, Loss:  1.358\n",
      "Epoch   0 Batch  295/538 - Train Accuracy:  0.472, Validation Accuracy:  0.473, Loss:  1.188\n",
      "Epoch   0 Batch  296/538 - Train Accuracy:  0.441, Validation Accuracy:  0.478, Loss:  1.241\n",
      "Epoch   0 Batch  297/538 - Train Accuracy:  0.405, Validation Accuracy:  0.472, Loss:  1.334\n",
      "Epoch   0 Batch  298/538 - Train Accuracy:  0.413, Validation Accuracy:  0.476, Loss:  1.281\n",
      "Epoch   0 Batch  299/538 - Train Accuracy:  0.441, Validation Accuracy:  0.476, Loss:  1.241\n",
      "Epoch   0 Batch  300/538 - Train Accuracy:  0.449, Validation Accuracy:  0.470, Loss:  1.207\n",
      "Epoch   0 Batch  301/538 - Train Accuracy:  0.448, Validation Accuracy:  0.476, Loss:  1.263\n",
      "Epoch   0 Batch  302/538 - Train Accuracy:  0.456, Validation Accuracy:  0.475, Loss:  1.208\n",
      "Epoch   0 Batch  303/538 - Train Accuracy:  0.487, Validation Accuracy:  0.477, Loss:  1.174\n",
      "Epoch   0 Batch  304/538 - Train Accuracy:  0.427, Validation Accuracy:  0.477, Loss:  1.269\n",
      "Epoch   0 Batch  305/538 - Train Accuracy:  0.435, Validation Accuracy:  0.476, Loss:  1.198\n",
      "Epoch   0 Batch  306/538 - Train Accuracy:  0.446, Validation Accuracy:  0.479, Loss:  1.216\n",
      "Epoch   0 Batch  307/538 - Train Accuracy:  0.426, Validation Accuracy:  0.481, Loss:  1.233\n",
      "Epoch   0 Batch  308/538 - Train Accuracy:  0.442, Validation Accuracy:  0.486, Loss:  1.220\n",
      "Epoch   0 Batch  309/538 - Train Accuracy:  0.396, Validation Accuracy:  0.472, Loss:  1.249\n",
      "Epoch   0 Batch  310/538 - Train Accuracy:  0.394, Validation Accuracy:  0.471, Loss:  1.241\n",
      "Epoch   0 Batch  311/538 - Train Accuracy:  0.445, Validation Accuracy:  0.469, Loss:  1.182\n",
      "Epoch   0 Batch  312/538 - Train Accuracy:  0.457, Validation Accuracy:  0.466, Loss:  1.127\n",
      "Epoch   0 Batch  313/538 - Train Accuracy:  0.408, Validation Accuracy:  0.468, Loss:  1.243\n",
      "Epoch   0 Batch  314/538 - Train Accuracy:  0.428, Validation Accuracy:  0.471, Loss:  1.210\n",
      "Epoch   0 Batch  315/538 - Train Accuracy:  0.435, Validation Accuracy:  0.466, Loss:  1.179\n",
      "Epoch   0 Batch  316/538 - Train Accuracy:  0.441, Validation Accuracy:  0.465, Loss:  1.177\n",
      "Epoch   0 Batch  317/538 - Train Accuracy:  0.443, Validation Accuracy:  0.475, Loss:  1.209\n",
      "Epoch   0 Batch  318/538 - Train Accuracy:  0.444, Validation Accuracy:  0.479, Loss:  1.160\n",
      "Epoch   0 Batch  319/538 - Train Accuracy:  0.438, Validation Accuracy:  0.475, Loss:  1.176\n",
      "Epoch   0 Batch  320/538 - Train Accuracy:  0.454, Validation Accuracy:  0.469, Loss:  1.174\n",
      "Epoch   0 Batch  321/538 - Train Accuracy:  0.436, Validation Accuracy:  0.467, Loss:  1.142\n",
      "Epoch   0 Batch  322/538 - Train Accuracy:  0.441, Validation Accuracy:  0.467, Loss:  1.210\n",
      "Epoch   0 Batch  323/538 - Train Accuracy:  0.441, Validation Accuracy:  0.472, Loss:  1.158\n",
      "Epoch   0 Batch  324/538 - Train Accuracy:  0.407, Validation Accuracy:  0.469, Loss:  1.224\n",
      "Epoch   0 Batch  325/538 - Train Accuracy:  0.401, Validation Accuracy:  0.471, Loss:  1.169\n",
      "Epoch   0 Batch  326/538 - Train Accuracy:  0.434, Validation Accuracy:  0.471, Loss:  1.176\n",
      "Epoch   0 Batch  327/538 - Train Accuracy:  0.423, Validation Accuracy:  0.473, Loss:  1.207\n",
      "Epoch   0 Batch  328/538 - Train Accuracy:  0.440, Validation Accuracy:  0.477, Loss:  1.129\n",
      "Epoch   0 Batch  329/538 - Train Accuracy:  0.455, Validation Accuracy:  0.472, Loss:  1.140\n",
      "Epoch   0 Batch  330/538 - Train Accuracy:  0.456, Validation Accuracy:  0.474, Loss:  1.129\n",
      "Epoch   0 Batch  331/538 - Train Accuracy:  0.415, Validation Accuracy:  0.479, Loss:  1.158\n",
      "Epoch   0 Batch  332/538 - Train Accuracy:  0.405, Validation Accuracy:  0.472, Loss:  1.180\n",
      "Epoch   0 Batch  333/538 - Train Accuracy:  0.440, Validation Accuracy:  0.474, Loss:  1.125\n",
      "Epoch   0 Batch  334/538 - Train Accuracy:  0.477, Validation Accuracy:  0.466, Loss:  1.081\n",
      "Epoch   0 Batch  335/538 - Train Accuracy:  0.437, Validation Accuracy:  0.467, Loss:  1.127\n",
      "Epoch   0 Batch  336/538 - Train Accuracy:  0.442, Validation Accuracy:  0.469, Loss:  1.129\n",
      "Epoch   0 Batch  337/538 - Train Accuracy:  0.444, Validation Accuracy:  0.467, Loss:  1.129\n",
      "Epoch   0 Batch  338/538 - Train Accuracy:  0.433, Validation Accuracy:  0.470, Loss:  1.155\n",
      "Epoch   0 Batch  339/538 - Train Accuracy:  0.446, Validation Accuracy:  0.471, Loss:  1.128\n",
      "Epoch   0 Batch  340/538 - Train Accuracy:  0.397, Validation Accuracy:  0.469, Loss:  1.161\n",
      "Epoch   0 Batch  341/538 - Train Accuracy:  0.408, Validation Accuracy:  0.469, Loss:  1.141\n",
      "Epoch   0 Batch  342/538 - Train Accuracy:  0.446, Validation Accuracy:  0.468, Loss:  1.118\n",
      "Epoch   0 Batch  343/538 - Train Accuracy:  0.407, Validation Accuracy:  0.468, Loss:  1.161\n",
      "Epoch   0 Batch  344/538 - Train Accuracy:  0.414, Validation Accuracy:  0.465, Loss:  1.140\n",
      "Epoch   0 Batch  345/538 - Train Accuracy:  0.422, Validation Accuracy:  0.467, Loss:  1.092\n",
      "Epoch   0 Batch  346/538 - Train Accuracy:  0.436, Validation Accuracy:  0.466, Loss:  1.133\n",
      "Epoch   0 Batch  347/538 - Train Accuracy:  0.425, Validation Accuracy:  0.470, Loss:  1.147\n",
      "Epoch   0 Batch  348/538 - Train Accuracy:  0.402, Validation Accuracy:  0.469, Loss:  1.101\n",
      "Epoch   0 Batch  349/538 - Train Accuracy:  0.424, Validation Accuracy:  0.469, Loss:  1.119\n",
      "Epoch   0 Batch  350/538 - Train Accuracy:  0.433, Validation Accuracy:  0.468, Loss:  1.136\n",
      "Epoch   0 Batch  351/538 - Train Accuracy:  0.407, Validation Accuracy:  0.466, Loss:  1.169\n",
      "Epoch   0 Batch  352/538 - Train Accuracy:  0.439, Validation Accuracy:  0.466, Loss:  1.093\n",
      "Epoch   0 Batch  353/538 - Train Accuracy:  0.415, Validation Accuracy:  0.469, Loss:  1.150\n",
      "Epoch   0 Batch  354/538 - Train Accuracy:  0.411, Validation Accuracy:  0.455, Loss:  1.146\n",
      "Epoch   0 Batch  355/538 - Train Accuracy:  0.391, Validation Accuracy:  0.467, Loss:  1.151\n",
      "Epoch   0 Batch  356/538 - Train Accuracy:  0.450, Validation Accuracy:  0.469, Loss:  1.043\n",
      "Epoch   0 Batch  357/538 - Train Accuracy:  0.438, Validation Accuracy:  0.468, Loss:  1.125\n",
      "Epoch   0 Batch  358/538 - Train Accuracy:  0.395, Validation Accuracy:  0.471, Loss:  1.140\n",
      "Epoch   0 Batch  359/538 - Train Accuracy:  0.456, Validation Accuracy:  0.472, Loss:  1.071\n",
      "Epoch   0 Batch  360/538 - Train Accuracy:  0.406, Validation Accuracy:  0.467, Loss:  1.122\n",
      "Epoch   0 Batch  361/538 - Train Accuracy:  0.422, Validation Accuracy:  0.468, Loss:  1.083\n",
      "Epoch   0 Batch  362/538 - Train Accuracy:  0.442, Validation Accuracy:  0.463, Loss:  1.043\n",
      "Epoch   0 Batch  363/538 - Train Accuracy:  0.430, Validation Accuracy:  0.467, Loss:  1.068\n",
      "Epoch   0 Batch  364/538 - Train Accuracy:  0.408, Validation Accuracy:  0.468, Loss:  1.136\n",
      "Epoch   0 Batch  365/538 - Train Accuracy:  0.442, Validation Accuracy:  0.476, Loss:  1.101\n",
      "Epoch   0 Batch  366/538 - Train Accuracy:  0.426, Validation Accuracy:  0.475, Loss:  1.109\n",
      "Epoch   0 Batch  367/538 - Train Accuracy:  0.419, Validation Accuracy:  0.474, Loss:  1.080\n",
      "Epoch   0 Batch  368/538 - Train Accuracy:  0.503, Validation Accuracy:  0.471, Loss:  0.944\n",
      "Epoch   0 Batch  369/538 - Train Accuracy:  0.430, Validation Accuracy:  0.475, Loss:  1.089\n",
      "Epoch   0 Batch  370/538 - Train Accuracy:  0.396, Validation Accuracy:  0.473, Loss:  1.116\n",
      "Epoch   0 Batch  371/538 - Train Accuracy:  0.441, Validation Accuracy:  0.464, Loss:  1.074\n",
      "Epoch   0 Batch  372/538 - Train Accuracy:  0.410, Validation Accuracy:  0.464, Loss:  1.091\n",
      "Epoch   0 Batch  373/538 - Train Accuracy:  0.416, Validation Accuracy:  0.467, Loss:  1.065\n",
      "Epoch   0 Batch  374/538 - Train Accuracy:  0.413, Validation Accuracy:  0.474, Loss:  1.114\n",
      "Epoch   0 Batch  375/538 - Train Accuracy:  0.458, Validation Accuracy:  0.470, Loss:  1.025\n",
      "Epoch   0 Batch  376/538 - Train Accuracy:  0.418, Validation Accuracy:  0.466, Loss:  1.087\n",
      "Epoch   0 Batch  377/538 - Train Accuracy:  0.421, Validation Accuracy:  0.471, Loss:  1.067\n",
      "Epoch   0 Batch  378/538 - Train Accuracy:  0.463, Validation Accuracy:  0.474, Loss:  1.023\n",
      "Epoch   0 Batch  379/538 - Train Accuracy:  0.451, Validation Accuracy:  0.472, Loss:  1.038\n",
      "Epoch   0 Batch  380/538 - Train Accuracy:  0.412, Validation Accuracy:  0.472, Loss:  1.069\n",
      "Epoch   0 Batch  381/538 - Train Accuracy:  0.449, Validation Accuracy:  0.473, Loss:  1.027\n",
      "Epoch   0 Batch  382/538 - Train Accuracy:  0.425, Validation Accuracy:  0.473, Loss:  1.066\n",
      "Epoch   0 Batch  383/538 - Train Accuracy:  0.420, Validation Accuracy:  0.471, Loss:  1.070\n",
      "Epoch   0 Batch  384/538 - Train Accuracy:  0.435, Validation Accuracy:  0.472, Loss:  1.050\n",
      "Epoch   0 Batch  385/538 - Train Accuracy:  0.454, Validation Accuracy:  0.474, Loss:  1.038\n",
      "Epoch   0 Batch  386/538 - Train Accuracy:  0.422, Validation Accuracy:  0.471, Loss:  1.079\n",
      "Epoch   0 Batch  387/538 - Train Accuracy:  0.411, Validation Accuracy:  0.470, Loss:  1.066\n",
      "Epoch   0 Batch  388/538 - Train Accuracy:  0.430, Validation Accuracy:  0.474, Loss:  1.026\n",
      "Epoch   0 Batch  389/538 - Train Accuracy:  0.407, Validation Accuracy:  0.473, Loss:  1.112\n",
      "Epoch   0 Batch  390/538 - Train Accuracy:  0.445, Validation Accuracy:  0.468, Loss:  1.002\n",
      "Epoch   0 Batch  391/538 - Train Accuracy:  0.457, Validation Accuracy:  0.468, Loss:  1.045\n",
      "Epoch   0 Batch  392/538 - Train Accuracy:  0.422, Validation Accuracy:  0.460, Loss:  1.029\n",
      "Epoch   0 Batch  393/538 - Train Accuracy:  0.461, Validation Accuracy:  0.472, Loss:  0.986\n",
      "Epoch   0 Batch  394/538 - Train Accuracy:  0.390, Validation Accuracy:  0.471, Loss:  1.079\n",
      "Epoch   0 Batch  395/538 - Train Accuracy:  0.418, Validation Accuracy:  0.471, Loss:  1.088\n",
      "Epoch   0 Batch  396/538 - Train Accuracy:  0.421, Validation Accuracy:  0.471, Loss:  1.037\n",
      "Epoch   0 Batch  397/538 - Train Accuracy:  0.419, Validation Accuracy:  0.478, Loss:  1.093\n",
      "Epoch   0 Batch  398/538 - Train Accuracy:  0.408, Validation Accuracy:  0.479, Loss:  1.057\n",
      "Epoch   0 Batch  399/538 - Train Accuracy:  0.416, Validation Accuracy:  0.477, Loss:  1.076\n",
      "Epoch   0 Batch  400/538 - Train Accuracy:  0.447, Validation Accuracy:  0.478, Loss:  1.026\n",
      "Epoch   0 Batch  401/538 - Train Accuracy:  0.418, Validation Accuracy:  0.472, Loss:  1.060\n",
      "Epoch   0 Batch  402/538 - Train Accuracy:  0.447, Validation Accuracy:  0.479, Loss:  1.023\n",
      "Epoch   0 Batch  403/538 - Train Accuracy:  0.406, Validation Accuracy:  0.479, Loss:  1.054\n",
      "Epoch   0 Batch  404/538 - Train Accuracy:  0.452, Validation Accuracy:  0.475, Loss:  0.982\n",
      "Epoch   0 Batch  405/538 - Train Accuracy:  0.454, Validation Accuracy:  0.474, Loss:  0.999\n",
      "Epoch   0 Batch  406/538 - Train Accuracy:  0.440, Validation Accuracy:  0.474, Loss:  1.004\n",
      "Epoch   0 Batch  407/538 - Train Accuracy:  0.439, Validation Accuracy:  0.474, Loss:  1.018\n",
      "Epoch   0 Batch  408/538 - Train Accuracy:  0.398, Validation Accuracy:  0.472, Loss:  1.088\n",
      "Epoch   0 Batch  409/538 - Train Accuracy:  0.411, Validation Accuracy:  0.473, Loss:  1.027\n",
      "Epoch   0 Batch  410/538 - Train Accuracy:  0.421, Validation Accuracy:  0.471, Loss:  1.021\n",
      "Epoch   0 Batch  411/538 - Train Accuracy:  0.455, Validation Accuracy:  0.470, Loss:  0.996\n",
      "Epoch   0 Batch  412/538 - Train Accuracy:  0.451, Validation Accuracy:  0.473, Loss:  0.963\n",
      "Epoch   0 Batch  413/538 - Train Accuracy:  0.387, Validation Accuracy:  0.472, Loss:  1.051\n",
      "Epoch   0 Batch  414/538 - Train Accuracy:  0.432, Validation Accuracy:  0.469, Loss:  1.036\n",
      "Epoch   0 Batch  415/538 - Train Accuracy:  0.406, Validation Accuracy:  0.472, Loss:  1.033\n",
      "Epoch   0 Batch  416/538 - Train Accuracy:  0.461, Validation Accuracy:  0.475, Loss:  0.956\n",
      "Epoch   0 Batch  417/538 - Train Accuracy:  0.405, Validation Accuracy:  0.468, Loss:  1.030\n",
      "Epoch   0 Batch  418/538 - Train Accuracy:  0.421, Validation Accuracy:  0.475, Loss:  1.043\n",
      "Epoch   0 Batch  419/538 - Train Accuracy:  0.446, Validation Accuracy:  0.477, Loss:  0.994\n",
      "Epoch   0 Batch  420/538 - Train Accuracy:  0.437, Validation Accuracy:  0.481, Loss:  0.991\n",
      "Epoch   0 Batch  421/538 - Train Accuracy:  0.448, Validation Accuracy:  0.475, Loss:  0.955\n",
      "Epoch   0 Batch  422/538 - Train Accuracy:  0.429, Validation Accuracy:  0.476, Loss:  1.000\n",
      "Epoch   0 Batch  423/538 - Train Accuracy:  0.442, Validation Accuracy:  0.482, Loss:  1.017\n",
      "Epoch   0 Batch  424/538 - Train Accuracy:  0.447, Validation Accuracy:  0.479, Loss:  0.980\n",
      "Epoch   0 Batch  425/538 - Train Accuracy:  0.457, Validation Accuracy:  0.479, Loss:  0.970\n",
      "Epoch   0 Batch  426/538 - Train Accuracy:  0.443, Validation Accuracy:  0.475, Loss:  0.981\n",
      "Epoch   0 Batch  427/538 - Train Accuracy:  0.417, Validation Accuracy:  0.459, Loss:  0.994\n",
      "Epoch   0 Batch  428/538 - Train Accuracy:  0.464, Validation Accuracy:  0.477, Loss:  0.957\n",
      "Epoch   0 Batch  429/538 - Train Accuracy:  0.463, Validation Accuracy:  0.478, Loss:  0.970\n",
      "Epoch   0 Batch  430/538 - Train Accuracy:  0.409, Validation Accuracy:  0.467, Loss:  0.983\n",
      "Epoch   0 Batch  431/538 - Train Accuracy:  0.397, Validation Accuracy:  0.460, Loss:  1.001\n",
      "Epoch   0 Batch  432/538 - Train Accuracy:  0.459, Validation Accuracy:  0.452, Loss:  0.924\n",
      "Epoch   0 Batch  433/538 - Train Accuracy:  0.417, Validation Accuracy:  0.454, Loss:  1.018\n",
      "Epoch   0 Batch  434/538 - Train Accuracy:  0.399, Validation Accuracy:  0.463, Loss:  1.034\n",
      "Epoch   0 Batch  435/538 - Train Accuracy:  0.423, Validation Accuracy:  0.463, Loss:  0.986\n",
      "Epoch   0 Batch  436/538 - Train Accuracy:  0.401, Validation Accuracy:  0.461, Loss:  0.996\n",
      "Epoch   0 Batch  437/538 - Train Accuracy:  0.415, Validation Accuracy:  0.461, Loss:  1.011\n",
      "Epoch   0 Batch  438/538 - Train Accuracy:  0.432, Validation Accuracy:  0.472, Loss:  0.970\n",
      "Epoch   0 Batch  439/538 - Train Accuracy:  0.444, Validation Accuracy:  0.474, Loss:  0.946\n",
      "Epoch   0 Batch  440/538 - Train Accuracy:  0.423, Validation Accuracy:  0.479, Loss:  1.014\n",
      "Epoch   0 Batch  441/538 - Train Accuracy:  0.416, Validation Accuracy:  0.479, Loss:  1.009\n",
      "Epoch   0 Batch  442/538 - Train Accuracy:  0.487, Validation Accuracy:  0.482, Loss:  0.886\n",
      "Epoch   0 Batch  443/538 - Train Accuracy:  0.453, Validation Accuracy:  0.487, Loss:  0.981\n",
      "Epoch   0 Batch  444/538 - Train Accuracy:  0.504, Validation Accuracy:  0.482, Loss:  0.902\n",
      "Epoch   0 Batch  445/538 - Train Accuracy:  0.447, Validation Accuracy:  0.484, Loss:  0.943\n",
      "Epoch   0 Batch  446/538 - Train Accuracy:  0.468, Validation Accuracy:  0.471, Loss:  0.916\n",
      "Epoch   0 Batch  447/538 - Train Accuracy:  0.405, Validation Accuracy:  0.475, Loss:  0.972\n",
      "Epoch   0 Batch  448/538 - Train Accuracy:  0.467, Validation Accuracy:  0.475, Loss:  0.899\n",
      "Epoch   0 Batch  449/538 - Train Accuracy:  0.435, Validation Accuracy:  0.467, Loss:  0.998\n",
      "Epoch   0 Batch  450/538 - Train Accuracy:  0.472, Validation Accuracy:  0.478, Loss:  0.966\n",
      "Epoch   0 Batch  451/538 - Train Accuracy:  0.429, Validation Accuracy:  0.474, Loss:  0.961\n",
      "Epoch   0 Batch  452/538 - Train Accuracy:  0.452, Validation Accuracy:  0.472, Loss:  0.954\n",
      "Epoch   0 Batch  453/538 - Train Accuracy:  0.427, Validation Accuracy:  0.473, Loss:  0.973\n",
      "Epoch   0 Batch  454/538 - Train Accuracy:  0.443, Validation Accuracy:  0.468, Loss:  0.933\n",
      "Epoch   0 Batch  455/538 - Train Accuracy:  0.475, Validation Accuracy:  0.474, Loss:  0.875\n",
      "Epoch   0 Batch  456/538 - Train Accuracy:  0.547, Validation Accuracy:  0.485, Loss:  0.836\n",
      "Epoch   0 Batch  457/538 - Train Accuracy:  0.436, Validation Accuracy:  0.480, Loss:  0.979\n",
      "Epoch   0 Batch  458/538 - Train Accuracy:  0.447, Validation Accuracy:  0.490, Loss:  0.928\n",
      "Epoch   0 Batch  459/538 - Train Accuracy:  0.471, Validation Accuracy:  0.493, Loss:  0.950\n",
      "Epoch   0 Batch  460/538 - Train Accuracy:  0.479, Validation Accuracy:  0.496, Loss:  0.939\n",
      "Epoch   0 Batch  461/538 - Train Accuracy:  0.429, Validation Accuracy:  0.501, Loss:  1.012\n",
      "Epoch   0 Batch  462/538 - Train Accuracy:  0.474, Validation Accuracy:  0.496, Loss:  0.935\n",
      "Epoch   0 Batch  463/538 - Train Accuracy:  0.442, Validation Accuracy:  0.498, Loss:  0.961\n",
      "Epoch   0 Batch  464/538 - Train Accuracy:  0.439, Validation Accuracy:  0.487, Loss:  0.971\n",
      "Epoch   0 Batch  465/538 - Train Accuracy:  0.431, Validation Accuracy:  0.497, Loss:  0.958\n",
      "Epoch   0 Batch  466/538 - Train Accuracy:  0.427, Validation Accuracy:  0.486, Loss:  0.961\n",
      "Epoch   0 Batch  467/538 - Train Accuracy:  0.445, Validation Accuracy:  0.474, Loss:  0.916\n",
      "Epoch   0 Batch  468/538 - Train Accuracy:  0.447, Validation Accuracy:  0.491, Loss:  0.971\n",
      "Epoch   0 Batch  469/538 - Train Accuracy:  0.445, Validation Accuracy:  0.489, Loss:  0.972\n",
      "Epoch   0 Batch  470/538 - Train Accuracy:  0.462, Validation Accuracy:  0.491, Loss:  0.919\n",
      "Epoch   0 Batch  471/538 - Train Accuracy:  0.474, Validation Accuracy:  0.485, Loss:  0.925\n",
      "Epoch   0 Batch  472/538 - Train Accuracy:  0.438, Validation Accuracy:  0.474, Loss:  0.926\n",
      "Epoch   0 Batch  473/538 - Train Accuracy:  0.439, Validation Accuracy:  0.482, Loss:  0.979\n",
      "Epoch   0 Batch  474/538 - Train Accuracy:  0.449, Validation Accuracy:  0.487, Loss:  0.899\n",
      "Epoch   0 Batch  475/538 - Train Accuracy:  0.466, Validation Accuracy:  0.488, Loss:  0.898\n",
      "Epoch   0 Batch  476/538 - Train Accuracy:  0.440, Validation Accuracy:  0.507, Loss:  0.948\n",
      "Epoch   0 Batch  477/538 - Train Accuracy:  0.478, Validation Accuracy:  0.506, Loss:  0.933\n",
      "Epoch   0 Batch  478/538 - Train Accuracy:  0.468, Validation Accuracy:  0.503, Loss:  0.896\n",
      "Epoch   0 Batch  479/538 - Train Accuracy:  0.482, Validation Accuracy:  0.489, Loss:  0.878\n",
      "Epoch   0 Batch  480/538 - Train Accuracy:  0.499, Validation Accuracy:  0.501, Loss:  0.894\n",
      "Epoch   0 Batch  481/538 - Train Accuracy:  0.452, Validation Accuracy:  0.471, Loss:  0.912\n",
      "Epoch   0 Batch  482/538 - Train Accuracy:  0.501, Validation Accuracy:  0.476, Loss:  0.828\n",
      "Epoch   0 Batch  483/538 - Train Accuracy:  0.454, Validation Accuracy:  0.501, Loss:  0.949\n",
      "Epoch   0 Batch  484/538 - Train Accuracy:  0.484, Validation Accuracy:  0.505, Loss:  0.931\n",
      "Epoch   0 Batch  485/538 - Train Accuracy:  0.481, Validation Accuracy:  0.491, Loss:  0.906\n",
      "Epoch   0 Batch  486/538 - Train Accuracy:  0.487, Validation Accuracy:  0.502, Loss:  0.877\n",
      "Epoch   0 Batch  487/538 - Train Accuracy:  0.499, Validation Accuracy:  0.516, Loss:  0.879\n",
      "Epoch   0 Batch  488/538 - Train Accuracy:  0.519, Validation Accuracy:  0.524, Loss:  0.909\n",
      "Epoch   0 Batch  489/538 - Train Accuracy:  0.481, Validation Accuracy:  0.518, Loss:  0.927\n",
      "Epoch   0 Batch  490/538 - Train Accuracy:  0.497, Validation Accuracy:  0.521, Loss:  0.891\n",
      "Epoch   0 Batch  491/538 - Train Accuracy:  0.485, Validation Accuracy:  0.524, Loss:  0.936\n",
      "Epoch   0 Batch  492/538 - Train Accuracy:  0.474, Validation Accuracy:  0.513, Loss:  0.937\n",
      "Epoch   0 Batch  493/538 - Train Accuracy:  0.469, Validation Accuracy:  0.515, Loss:  0.894\n",
      "Epoch   0 Batch  494/538 - Train Accuracy:  0.479, Validation Accuracy:  0.516, Loss:  0.947\n",
      "Epoch   0 Batch  495/538 - Train Accuracy:  0.479, Validation Accuracy:  0.514, Loss:  0.938\n",
      "Epoch   0 Batch  496/538 - Train Accuracy:  0.456, Validation Accuracy:  0.493, Loss:  0.903\n",
      "Epoch   0 Batch  497/538 - Train Accuracy:  0.475, Validation Accuracy:  0.501, Loss:  0.888\n",
      "Epoch   0 Batch  498/538 - Train Accuracy:  0.443, Validation Accuracy:  0.505, Loss:  0.897\n",
      "Epoch   0 Batch  499/538 - Train Accuracy:  0.503, Validation Accuracy:  0.498, Loss:  0.874\n",
      "Epoch   0 Batch  500/538 - Train Accuracy:  0.505, Validation Accuracy:  0.503, Loss:  0.834\n",
      "Epoch   0 Batch  501/538 - Train Accuracy:  0.488, Validation Accuracy:  0.520, Loss:  0.899\n",
      "Epoch   0 Batch  502/538 - Train Accuracy:  0.473, Validation Accuracy:  0.518, Loss:  0.882\n",
      "Epoch   0 Batch  503/538 - Train Accuracy:  0.494, Validation Accuracy:  0.515, Loss:  0.866\n",
      "Epoch   0 Batch  504/538 - Train Accuracy:  0.468, Validation Accuracy:  0.518, Loss:  0.895\n",
      "Epoch   0 Batch  505/538 - Train Accuracy:  0.481, Validation Accuracy:  0.513, Loss:  0.870\n",
      "Epoch   0 Batch  506/538 - Train Accuracy:  0.474, Validation Accuracy:  0.509, Loss:  0.875\n",
      "Epoch   0 Batch  507/538 - Train Accuracy:  0.459, Validation Accuracy:  0.502, Loss:  0.908\n",
      "Epoch   0 Batch  508/538 - Train Accuracy:  0.496, Validation Accuracy:  0.509, Loss:  0.844\n",
      "Epoch   0 Batch  509/538 - Train Accuracy:  0.479, Validation Accuracy:  0.513, Loss:  0.902\n",
      "Epoch   0 Batch  510/538 - Train Accuracy:  0.508, Validation Accuracy:  0.493, Loss:  0.858\n",
      "Epoch   0 Batch  511/538 - Train Accuracy:  0.516, Validation Accuracy:  0.497, Loss:  0.842\n",
      "Epoch   0 Batch  512/538 - Train Accuracy:  0.498, Validation Accuracy:  0.491, Loss:  0.849\n",
      "Epoch   0 Batch  513/538 - Train Accuracy:  0.483, Validation Accuracy:  0.501, Loss:  0.879\n",
      "Epoch   0 Batch  514/538 - Train Accuracy:  0.479, Validation Accuracy:  0.507, Loss:  0.899\n",
      "Epoch   0 Batch  515/538 - Train Accuracy:  0.503, Validation Accuracy:  0.509, Loss:  0.860\n",
      "Epoch   0 Batch  516/538 - Train Accuracy:  0.469, Validation Accuracy:  0.501, Loss:  0.882\n",
      "Epoch   0 Batch  517/538 - Train Accuracy:  0.515, Validation Accuracy:  0.521, Loss:  0.848\n",
      "Epoch   0 Batch  518/538 - Train Accuracy:  0.453, Validation Accuracy:  0.514, Loss:  0.922\n",
      "Epoch   0 Batch  519/538 - Train Accuracy:  0.538, Validation Accuracy:  0.513, Loss:  0.849\n",
      "Epoch   0 Batch  520/538 - Train Accuracy:  0.452, Validation Accuracy:  0.515, Loss:  0.910\n",
      "Epoch   0 Batch  521/538 - Train Accuracy:  0.497, Validation Accuracy:  0.514, Loss:  0.902\n",
      "Epoch   0 Batch  522/538 - Train Accuracy:  0.459, Validation Accuracy:  0.512, Loss:  0.878\n",
      "Epoch   0 Batch  523/538 - Train Accuracy:  0.465, Validation Accuracy:  0.507, Loss:  0.890\n",
      "Epoch   0 Batch  524/538 - Train Accuracy:  0.431, Validation Accuracy:  0.505, Loss:  0.908\n",
      "Epoch   0 Batch  525/538 - Train Accuracy:  0.498, Validation Accuracy:  0.518, Loss:  0.844\n",
      "Epoch   0 Batch  526/538 - Train Accuracy:  0.488, Validation Accuracy:  0.520, Loss:  0.858\n",
      "Epoch   0 Batch  527/538 - Train Accuracy:  0.518, Validation Accuracy:  0.521, Loss:  0.858\n",
      "Epoch   0 Batch  528/538 - Train Accuracy:  0.467, Validation Accuracy:  0.524, Loss:  0.930\n",
      "Epoch   0 Batch  529/538 - Train Accuracy:  0.478, Validation Accuracy:  0.523, Loss:  0.891\n",
      "Epoch   0 Batch  530/538 - Train Accuracy:  0.484, Validation Accuracy:  0.522, Loss:  0.898\n",
      "Epoch   0 Batch  531/538 - Train Accuracy:  0.493, Validation Accuracy:  0.514, Loss:  0.875\n",
      "Epoch   0 Batch  532/538 - Train Accuracy:  0.463, Validation Accuracy:  0.517, Loss:  0.868\n",
      "Epoch   0 Batch  533/538 - Train Accuracy:  0.484, Validation Accuracy:  0.510, Loss:  0.861\n",
      "Epoch   0 Batch  534/538 - Train Accuracy:  0.504, Validation Accuracy:  0.516, Loss:  0.837\n",
      "Epoch   0 Batch  535/538 - Train Accuracy:  0.510, Validation Accuracy:  0.516, Loss:  0.851\n",
      "Epoch   0 Batch  536/538 - Train Accuracy:  0.504, Validation Accuracy:  0.510, Loss:  0.845\n",
      "Model Trained and Saved\n"
     ]
    }
   ],
   "source": [
    "\"\"\"\n",
    "DON'T MODIFY ANYTHING IN THIS CELL\n",
    "\"\"\"\n",
    "import time\n",
    "\n",
    "def get_accuracy(target, logits):\n",
    "    \"\"\"\n",
    "    Calculate accuracy\n",
    "    \"\"\"\n",
    "    max_seq = max(target.shape[1], logits.shape[1])\n",
    "    if max_seq - target.shape[1]:\n",
    "        target = np.pad(\n",
    "            target,\n",
    "            [(0,0),(0,max_seq - target.shape[1])],\n",
    "            'constant')\n",
    "    if max_seq - logits.shape[1]:\n",
    "        logits = np.pad(\n",
    "            logits,\n",
    "            [(0,0),(0,max_seq - logits.shape[1]), (0,0)],\n",
    "            'constant')\n",
    "\n",
    "    return np.mean(np.equal(target, np.argmax(logits, 2)))\n",
    "\n",
    "train_source = source_int_text[batch_size:]\n",
    "train_target = target_int_text[batch_size:]\n",
    "\n",
    "valid_source = helper.pad_sentence_batch(source_int_text[:batch_size])\n",
    "valid_target = helper.pad_sentence_batch(target_int_text[:batch_size])\n",
    "\n",
    "with tf.Session(graph=train_graph) as sess:\n",
    "    sess.run(tf.global_variables_initializer())\n",
    "\n",
    "    for epoch_i in range(epochs):\n",
    "        for batch_i, (source_batch, target_batch) in enumerate(\n",
    "                helper.batch_data(train_source, train_target, batch_size)):\n",
    "            start_time = time.time()\n",
    "            \n",
    "            _, loss = sess.run(\n",
    "                [train_op, cost],\n",
    "                {input_data: source_batch,\n",
    "                 targets: target_batch,\n",
    "                 lr: learning_rate,\n",
    "                 sequence_length: target_batch.shape[1],\n",
    "                 keep_prob: keep_probability})\n",
    "            \n",
    "            batch_train_logits = sess.run(\n",
    "                inference_logits,\n",
    "                {input_data: source_batch, keep_prob: 1.0})\n",
    "            batch_valid_logits = sess.run(\n",
    "                inference_logits,\n",
    "                {input_data: valid_source, keep_prob: 1.0})\n",
    "                \n",
    "            train_acc = get_accuracy(target_batch, batch_train_logits)\n",
    "            valid_acc = get_accuracy(np.array(valid_target), batch_valid_logits)\n",
    "            end_time = time.time()\n",
    "            print('Epoch {:>3} Batch {:>4}/{} - Train Accuracy: {:>6.3f}, Validation Accuracy: {:>6.3f}, Loss: {:>6.3f}'\n",
    "                  .format(epoch_i, batch_i, len(source_int_text) // batch_size, train_acc, valid_acc, loss))\n",
    "\n",
    "    # Save Model\n",
    "    saver = tf.train.Saver()\n",
    "    saver.save(sess, save_path)\n",
    "    print('Model Trained and Saved')"
   ]
  },
  {
   "cell_type": "markdown",
   "metadata": {
    "deletable": true,
    "editable": true
   },
   "source": [
    "### Save Parameters\n",
    "Save the `batch_size` and `save_path` parameters for inference."
   ]
  },
  {
   "cell_type": "code",
   "execution_count": 25,
   "metadata": {
    "collapsed": false,
    "deletable": true,
    "editable": true
   },
   "outputs": [],
   "source": [
    "\"\"\"\n",
    "DON'T MODIFY ANYTHING IN THIS CELL\n",
    "\"\"\"\n",
    "# Save parameters for checkpoint\n",
    "helper.save_params(save_path)"
   ]
  },
  {
   "cell_type": "markdown",
   "metadata": {
    "deletable": true,
    "editable": true
   },
   "source": [
    "# Checkpoint"
   ]
  },
  {
   "cell_type": "code",
   "execution_count": 26,
   "metadata": {
    "collapsed": false,
    "deletable": true,
    "editable": true
   },
   "outputs": [],
   "source": [
    "\"\"\"\n",
    "DON'T MODIFY ANYTHING IN THIS CELL\n",
    "\"\"\"\n",
    "import tensorflow as tf\n",
    "import numpy as np\n",
    "import helper\n",
    "import problem_unittests as tests\n",
    "\n",
    "_, (source_vocab_to_int, target_vocab_to_int), (source_int_to_vocab, target_int_to_vocab) = helper.load_preprocess()\n",
    "load_path = helper.load_params()"
   ]
  },
  {
   "cell_type": "markdown",
   "metadata": {
    "deletable": true,
    "editable": true
   },
   "source": [
    "## Sentence to Sequence\n",
    "To feed a sentence into the model for translation, you first need to preprocess it.  Implement the function `sentence_to_seq()` to preprocess new sentences.\n",
    "\n",
    "- Convert the sentence to lowercase\n",
    "- Convert words into ids using `vocab_to_int`\n",
    "- Convert words not in the vocabulary, to the `<UNK>` word id."
   ]
  },
  {
   "cell_type": "code",
   "execution_count": 27,
   "metadata": {
    "collapsed": false,
    "deletable": true,
    "editable": true
   },
   "outputs": [
    {
     "name": "stdout",
     "output_type": "stream",
     "text": [
      "Tests Passed\n"
     ]
    }
   ],
   "source": [
    "def sentence_to_seq(sentence, vocab_to_int):\n",
    "    \"\"\"\n",
    "    Convert a sentence to a sequence of ids\n",
    "    :param sentence: String\n",
    "    :param vocab_to_int: Dictionary to go from the words to an id\n",
    "    :return: List of word ids\n",
    "    \"\"\"\n",
    "    # TODO: Implement Function\n",
    "    sentence_to_int= [vocab_to_int.get(w.lower(), vocab_to_int['<UNK>']) for w in sentence.split()]\n",
    "    return sentence_to_int\n",
    "\n",
    "\n",
    "\"\"\"\n",
    "DON'T MODIFY ANYTHING IN THIS CELL THAT IS BELOW THIS LINE\n",
    "\"\"\"\n",
    "tests.test_sentence_to_seq(sentence_to_seq)"
   ]
  },
  {
   "cell_type": "markdown",
   "metadata": {
    "deletable": true,
    "editable": true
   },
   "source": [
    "## Translate\n",
    "This will translate `translate_sentence` from English to French."
   ]
  },
  {
   "cell_type": "code",
   "execution_count": 28,
   "metadata": {
    "collapsed": false,
    "deletable": true,
    "editable": true
   },
   "outputs": [
    {
     "name": "stdout",
     "output_type": "stream",
     "text": [
      "Input\n",
      "  Word Ids:      [210, 103, 37, 146, 104, 35, 167]\n",
      "  English Words: ['he', 'saw', 'a', 'old', 'yellow', 'truck', '.']\n",
      "\n",
      "Prediction\n",
      "  Word Ids:      [188, 310, 0, 0, 0, 0, 0, 0, 0, 0, 0, 0, 0, 0, 0, 0, 0]\n",
      "  French Words: ['elle', 'aime', '<PAD>', '<PAD>', '<PAD>', '<PAD>', '<PAD>', '<PAD>', '<PAD>', '<PAD>', '<PAD>', '<PAD>', '<PAD>', '<PAD>', '<PAD>', '<PAD>', '<PAD>']\n"
     ]
    }
   ],
   "source": [
    "translate_sentence = 'he saw a old yellow truck .'\n",
    "\n",
    "\n",
    "\"\"\"\n",
    "DON'T MODIFY ANYTHING IN THIS CELL\n",
    "\"\"\"\n",
    "translate_sentence = sentence_to_seq(translate_sentence, source_vocab_to_int)\n",
    "\n",
    "loaded_graph = tf.Graph()\n",
    "with tf.Session(graph=loaded_graph) as sess:\n",
    "    # Load saved model\n",
    "    loader = tf.train.import_meta_graph(load_path + '.meta')\n",
    "    loader.restore(sess, load_path)\n",
    "\n",
    "    input_data = loaded_graph.get_tensor_by_name('input:0')\n",
    "    logits = loaded_graph.get_tensor_by_name('logits:0')\n",
    "    keep_prob = loaded_graph.get_tensor_by_name('keep_prob:0')\n",
    "\n",
    "    translate_logits = sess.run(logits, {input_data: [translate_sentence], keep_prob: 1.0})[0]\n",
    "\n",
    "print('Input')\n",
    "print('  Word Ids:      {}'.format([i for i in translate_sentence]))\n",
    "print('  English Words: {}'.format([source_int_to_vocab[i] for i in translate_sentence]))\n",
    "\n",
    "print('\\nPrediction')\n",
    "print('  Word Ids:      {}'.format([i for i in np.argmax(translate_logits, 1)]))\n",
    "print('  French Words: {}'.format([target_int_to_vocab[i] for i in np.argmax(translate_logits, 1)]))"
   ]
  },
  {
   "cell_type": "markdown",
   "metadata": {
    "deletable": true,
    "editable": true
   },
   "source": [
    "## Imperfect Translation\n",
    "You might notice that some sentences translate better than others.  Since the dataset you're using only has a vocabulary of 227 English words of the thousands that you use, you're only going to see good results using these words.  Additionally, the translations in this data set were made by Google translate, so the translations themselves aren't particularly good.  (We apologize to the French speakers out there!) Thankfully, for this project, you don't need a perfect translation. However, if you want to create a better translation model, you'll need better data.\n",
    "\n",
    "You can train on the [WMT10 French-English corpus](http://www.statmt.org/wmt10/training-giga-fren.tar).  This dataset has more vocabulary and richer in topics discussed.  However, this will take you days to train, so make sure you've a GPU and the neural network is performing well on dataset we provided.  Just make sure you play with the WMT10 corpus after you've submitted this project.\n",
    "## Submitting This Project\n",
    "When submitting this project, make sure to run all the cells before saving the notebook. Save the notebook file as \"dlnd_language_translation.ipynb\" and save it as a HTML file under \"File\" -> \"Download as\". Include the \"helper.py\" and \"problem_unittests.py\" files in your submission."
   ]
  }
 ],
 "metadata": {
  "kernelspec": {
   "display_name": "Python 3",
   "language": "python",
   "name": "python3"
  },
  "language_info": {
   "codemirror_mode": {
    "name": "ipython",
    "version": 3
   },
   "file_extension": ".py",
   "mimetype": "text/x-python",
   "name": "python",
   "nbconvert_exporter": "python",
   "pygments_lexer": "ipython3",
   "version": "3.5.3"
  }
 },
 "nbformat": 4,
 "nbformat_minor": 0
}
